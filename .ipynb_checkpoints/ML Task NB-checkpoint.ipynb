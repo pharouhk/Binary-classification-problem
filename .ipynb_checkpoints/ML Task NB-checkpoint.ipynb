{
 "cells": [
  {
   "cell_type": "markdown",
   "metadata": {},
   "source": [
    "# Binary Classification Problem\n",
    "\n",
    "This notebook is a step by step guide for replicating the classification results. The notebook adopted the thought process below:\n",
    "\n",
    "1. Data Ingestion - this involved various steps used to read in the data properly\n",
    "2. Data preparation/cleaning - this involved the use of various data cleaning custom functions to prepare the data in a usable format\n",
    "3. Data Visualisation and Exploration - the cleaned data is visualised and explored to derive high-level understanding of features in readiness for modeling task\n",
    "4. Data Modeling -  The data is trained using popular machine learning algorithms\n",
    "5. Prediction and evaluation - the models are evaluated based on the results from predictions on the validation data. A pipeline was created at this step to reduce the code required to make predictions\n",
    "6. Performance Optimization - the evaluated models are optimized to obtain the optimal model performance"
   ]
  },
  {
   "cell_type": "code",
   "execution_count": 1,
   "metadata": {},
   "outputs": [],
   "source": [
    "# !pip install imbalanced-learn"
   ]
  },
  {
   "cell_type": "markdown",
   "metadata": {},
   "source": [
    "### Initialization "
   ]
  },
  {
   "cell_type": "code",
   "execution_count": 2,
   "metadata": {},
   "outputs": [],
   "source": [
    "#import necessary libraries\n",
    "import pandas as pd\n",
    "import numpy as np\n",
    "from numpy import mean\n",
    "from numpy import std\n",
    "import os\n",
    "import matplotlib.pyplot as plt\n",
    "import math\n",
    "from datetime import datetime\n",
    "import seaborn as sns # data visualization library  \n",
    "import matplotlib.pyplot as plt\n",
    "from sklearn.linear_model import LogisticRegression\n",
    "from sklearn.preprocessing import OneHotEncoder\n",
    "from sklearn.preprocessing import LabelEncoder\n",
    "from sklearn.metrics import confusion_matrix\n",
    "from sklearn.model_selection import train_test_split\n",
    "from sklearn.preprocessing import MinMaxScaler\n",
    "from collections import Counter\n",
    "from math import sqrt\n",
    "\n",
    "import warnings\n",
    "warnings.filterwarnings(\"ignore\")"
   ]
  },
  {
   "cell_type": "markdown",
   "metadata": {},
   "source": [
    "## Reading in the Custom Data"
   ]
  },
  {
   "cell_type": "markdown",
   "metadata": {},
   "source": [
    "### Brief Description of the Datasets\n",
    "\n",
    "This is a **supervised learning task** meaning we have target labels in the dataset. Two types of datasets will be used in this task:\n",
    "- One is the training dataset \n",
    "- The other is a validation dataset. \n",
    "\n",
    "We would read in the data below:"
   ]
  },
  {
   "cell_type": "code",
   "execution_count": 3,
   "metadata": {},
   "outputs": [
    {
     "data": {
      "text/html": [
       "<div>\n",
       "<style scoped>\n",
       "    .dataframe tbody tr th:only-of-type {\n",
       "        vertical-align: middle;\n",
       "    }\n",
       "\n",
       "    .dataframe tbody tr th {\n",
       "        vertical-align: top;\n",
       "    }\n",
       "\n",
       "    .dataframe thead th {\n",
       "        text-align: right;\n",
       "    }\n",
       "</style>\n",
       "<table border=\"1\" class=\"dataframe\">\n",
       "  <thead>\n",
       "    <tr style=\"text-align: right;\">\n",
       "      <th></th>\n",
       "      <th></th>\n",
       "      <th></th>\n",
       "      <th></th>\n",
       "      <th>v33</th>\n",
       "      <th>v76</th>\n",
       "      <th>v12</th>\n",
       "      <th>v68</th>\n",
       "      <th>v50</th>\n",
       "      <th>v7</th>\n",
       "      <th>v70</th>\n",
       "      <th>v55</th>\n",
       "      <th>v20</th>\n",
       "      <th>v24</th>\n",
       "      <th>...</th>\n",
       "      <th>v28</th>\n",
       "      <th>v99</th>\n",
       "      <th>v95</th>\n",
       "      <th>v42</th>\n",
       "      <th>v53</th>\n",
       "      <th>v85</th>\n",
       "      <th>v9</th>\n",
       "      <th>v84</th>\n",
       "      <th>v44</th>\n",
       "      <th>classlabel</th>\n",
       "    </tr>\n",
       "  </thead>\n",
       "  <tbody>\n",
       "    <tr>\n",
       "      <th rowspan=\"2\" valign=\"top\">v</th>\n",
       "      <th>g</th>\n",
       "      <th>17.0</th>\n",
       "      <th>92</th>\n",
       "      <td>f</td>\n",
       "      <td>1</td>\n",
       "      <td>75</td>\n",
       "      <td>a</td>\n",
       "      <td>t</td>\n",
       "      <td>80.0</td>\n",
       "      <td>0</td>\n",
       "      <td>000054</td>\n",
       "      <td>1</td>\n",
       "      <td>u</td>\n",
       "      <td>...</td>\n",
       "      <td>t</td>\n",
       "      <td>c</td>\n",
       "      <td>t</td>\n",
       "      <td>800000</td>\n",
       "      <td>5</td>\n",
       "      <td>g</td>\n",
       "      <td>0</td>\n",
       "      <td>f</td>\n",
       "      <td>f</td>\n",
       "      <td>no.</td>\n",
       "    </tr>\n",
       "    <tr>\n",
       "      <th>s</th>\n",
       "      <th>16.0</th>\n",
       "      <th>92</th>\n",
       "      <td>f</td>\n",
       "      <td>0</td>\n",
       "      <td>29</td>\n",
       "      <td>b</td>\n",
       "      <td>f</td>\n",
       "      <td>200.0</td>\n",
       "      <td>0</td>\n",
       "      <td>0000335</td>\n",
       "      <td>0</td>\n",
       "      <td>y</td>\n",
       "      <td>...</td>\n",
       "      <td>f</td>\n",
       "      <td>k</td>\n",
       "      <td>NaN</td>\n",
       "      <td>2000000</td>\n",
       "      <td>0</td>\n",
       "      <td>p</td>\n",
       "      <td>1</td>\n",
       "      <td>f</td>\n",
       "      <td>f</td>\n",
       "      <td>no.</td>\n",
       "    </tr>\n",
       "    <tr>\n",
       "      <th>ff</th>\n",
       "      <th>g</th>\n",
       "      <th>31.0</th>\n",
       "      <th>25</th>\n",
       "      <td>f</td>\n",
       "      <td>0</td>\n",
       "      <td>b</td>\n",
       "      <td>t</td>\n",
       "      <td>96</td>\n",
       "      <td>0.0</td>\n",
       "      <td>0001125</td>\n",
       "      <td>1</td>\n",
       "      <td>u</td>\n",
       "      <td>3</td>\n",
       "      <td>...</td>\n",
       "      <td>ff</td>\n",
       "      <td>t</td>\n",
       "      <td>960000</td>\n",
       "      <td>19</td>\n",
       "      <td>g</td>\n",
       "      <td>0</td>\n",
       "      <td>f</td>\n",
       "      <td>f</td>\n",
       "      <td>no.</td>\n",
       "      <td>NaN</td>\n",
       "    </tr>\n",
       "    <tr>\n",
       "      <th>o</th>\n",
       "      <th>g</th>\n",
       "      <th>48.0</th>\n",
       "      <th>17</th>\n",
       "      <td>f</td>\n",
       "      <td>0</td>\n",
       "      <td>335</td>\n",
       "      <td>a</td>\n",
       "      <td>f</td>\n",
       "      <td>0.0</td>\n",
       "      <td>0</td>\n",
       "      <td>0001335</td>\n",
       "      <td>0</td>\n",
       "      <td>u</td>\n",
       "      <td>...</td>\n",
       "      <td>f</td>\n",
       "      <td>i</td>\n",
       "      <td>NaN</td>\n",
       "      <td>0</td>\n",
       "      <td>120</td>\n",
       "      <td>g</td>\n",
       "      <td>1</td>\n",
       "      <td>f</td>\n",
       "      <td>f</td>\n",
       "      <td>no.</td>\n",
       "    </tr>\n",
       "    <tr>\n",
       "      <th>v</th>\n",
       "      <th>g</th>\n",
       "      <th>32.0</th>\n",
       "      <th>33</th>\n",
       "      <td>t</td>\n",
       "      <td>0</td>\n",
       "      <td>5</td>\n",
       "      <td>b</td>\n",
       "      <td>f</td>\n",
       "      <td>232.0</td>\n",
       "      <td>0</td>\n",
       "      <td>00035</td>\n",
       "      <td>0</td>\n",
       "      <td>u</td>\n",
       "      <td>...</td>\n",
       "      <td>t</td>\n",
       "      <td>k</td>\n",
       "      <td>f</td>\n",
       "      <td>2320000</td>\n",
       "      <td>0</td>\n",
       "      <td>g</td>\n",
       "      <td>1</td>\n",
       "      <td>f</td>\n",
       "      <td>f</td>\n",
       "      <td>no.</td>\n",
       "    </tr>\n",
       "  </tbody>\n",
       "</table>\n",
       "<p>5 rows × 22 columns</p>\n",
       "</div>"
      ],
      "text/plain": [
       "             v33 v76  v12 v68 v50     v7      v70      v55 v20 v24  ... v28  \\\n",
       "v  g 17.0 92   f   1   75   a   t   80.0        0   000054   1   u  ...   t   \n",
       "   s 16.0 92   f   0   29   b   f  200.0        0  0000335   0   y  ...   f   \n",
       "ff g 31.0 25   f   0    b   t  96    0.0  0001125        1   u   3  ...  ff   \n",
       "o  g 48.0 17   f   0  335   a   f    0.0        0  0001335   0   u  ...   f   \n",
       "v  g 32.0 33   t   0    5   b   f  232.0        0    00035   0   u  ...   t   \n",
       "\n",
       "             v99     v95      v42  v53 v85 v9 v84  v44 classlabel  \n",
       "v  g 17.0 92   c       t   800000    5   g  0   f    f        no.  \n",
       "   s 16.0 92   k     NaN  2000000    0   p  1   f    f        no.  \n",
       "ff g 31.0 25   t  960000       19    g   0  f   f  no.        NaN  \n",
       "o  g 48.0 17   i     NaN        0  120   g  1   f    f        no.  \n",
       "v  g 32.0 33   k       f  2320000    0   g  1   f    f        no.  \n",
       "\n",
       "[5 rows x 22 columns]"
      ]
     },
     "execution_count": 3,
     "metadata": {},
     "output_type": "execute_result"
    }
   ],
   "source": [
    "file_path = 'ds_take_home/Training.csv' #local file path\n",
    "train_df_ = pd.read_csv(file_path)\n",
    "\n",
    "train_df_.head()"
   ]
  },
  {
   "cell_type": "code",
   "execution_count": 4,
   "metadata": {
    "scrolled": true
   },
   "outputs": [
    {
     "data": {
      "text/plain": [
       "MultiIndex([( 'v', 'g', 17.0, '92'),\n",
       "            ( 'v', 's', 16.0, '92'),\n",
       "            ('ff', 'g', 31.0, '25'),\n",
       "            ( 'o', 'g', 48.0, '17'),\n",
       "            ( 'v', 'g', 32.0, '33'),\n",
       "            ( 'h', 'g', 34.0, '83'),\n",
       "            ( 'j', 'g', 26.0, '17'),\n",
       "            ( 'h', 'g', 21.0, '17'),\n",
       "            ( 'v', 'g', 28.0, '92'),\n",
       "            ( 'h', 'g', 18.0, '17'),\n",
       "            ...\n",
       "            ( 'h', 'g', 23.0, '92'),\n",
       "            ( 'v', 'g', 23.0, '25'),\n",
       "            ( 'h', 'g', 46.0, '67'),\n",
       "            ( 'h', 'g', 25.0,  't'),\n",
       "            ( 'v', 'g', 25.0,  '5'),\n",
       "            ( 'v', 'g', 18.0, '75'),\n",
       "            ( 'v', 'g', 23.0,  '5'),\n",
       "            ( 'v', 'g', 34.0, '17'),\n",
       "            ( 'v', 'g', 27.0, '83'),\n",
       "            ( 'v', 'g', 36.0, '75')],\n",
       "           length=3700)"
      ]
     },
     "execution_count": 4,
     "metadata": {},
     "output_type": "execute_result"
    }
   ],
   "source": [
    "train_df_.index"
   ]
  },
  {
   "cell_type": "markdown",
   "metadata": {},
   "source": [
    "The dataset appears to be significantly malformed with the number of column values in the non-header rows exceeding the number of columns in the header which is evident in the multi-index above. The training dataset would need to be loaded but with these additional columns."
   ]
  },
  {
   "cell_type": "code",
   "execution_count": 5,
   "metadata": {},
   "outputs": [
    {
     "data": {
      "text/html": [
       "<div>\n",
       "<style scoped>\n",
       "    .dataframe tbody tr th:only-of-type {\n",
       "        vertical-align: middle;\n",
       "    }\n",
       "\n",
       "    .dataframe tbody tr th {\n",
       "        vertical-align: top;\n",
       "    }\n",
       "\n",
       "    .dataframe thead th {\n",
       "        text-align: right;\n",
       "    }\n",
       "</style>\n",
       "<table border=\"1\" class=\"dataframe\">\n",
       "  <thead>\n",
       "    <tr style=\"text-align: right;\">\n",
       "      <th></th>\n",
       "      <th>level_0</th>\n",
       "      <th>level_1</th>\n",
       "      <th>level_2</th>\n",
       "      <th>level_3</th>\n",
       "      <th>v33</th>\n",
       "      <th>v76</th>\n",
       "      <th>v12</th>\n",
       "      <th>v68</th>\n",
       "      <th>v50</th>\n",
       "      <th>v7</th>\n",
       "      <th>...</th>\n",
       "      <th>v28</th>\n",
       "      <th>v99</th>\n",
       "      <th>v95</th>\n",
       "      <th>v42</th>\n",
       "      <th>v53</th>\n",
       "      <th>v85</th>\n",
       "      <th>v9</th>\n",
       "      <th>v84</th>\n",
       "      <th>v44</th>\n",
       "      <th>classlabel</th>\n",
       "    </tr>\n",
       "  </thead>\n",
       "  <tbody>\n",
       "    <tr>\n",
       "      <th>0</th>\n",
       "      <td>v</td>\n",
       "      <td>g</td>\n",
       "      <td>17.0</td>\n",
       "      <td>92</td>\n",
       "      <td>f</td>\n",
       "      <td>1</td>\n",
       "      <td>75</td>\n",
       "      <td>a</td>\n",
       "      <td>t</td>\n",
       "      <td>80.0</td>\n",
       "      <td>...</td>\n",
       "      <td>t</td>\n",
       "      <td>c</td>\n",
       "      <td>t</td>\n",
       "      <td>800000</td>\n",
       "      <td>5</td>\n",
       "      <td>g</td>\n",
       "      <td>0</td>\n",
       "      <td>f</td>\n",
       "      <td>f</td>\n",
       "      <td>no.</td>\n",
       "    </tr>\n",
       "    <tr>\n",
       "      <th>1</th>\n",
       "      <td>v</td>\n",
       "      <td>s</td>\n",
       "      <td>16.0</td>\n",
       "      <td>92</td>\n",
       "      <td>f</td>\n",
       "      <td>0</td>\n",
       "      <td>29</td>\n",
       "      <td>b</td>\n",
       "      <td>f</td>\n",
       "      <td>200.0</td>\n",
       "      <td>...</td>\n",
       "      <td>f</td>\n",
       "      <td>k</td>\n",
       "      <td>NaN</td>\n",
       "      <td>2000000</td>\n",
       "      <td>0</td>\n",
       "      <td>p</td>\n",
       "      <td>1</td>\n",
       "      <td>f</td>\n",
       "      <td>f</td>\n",
       "      <td>no.</td>\n",
       "    </tr>\n",
       "    <tr>\n",
       "      <th>2</th>\n",
       "      <td>ff</td>\n",
       "      <td>g</td>\n",
       "      <td>31.0</td>\n",
       "      <td>25</td>\n",
       "      <td>f</td>\n",
       "      <td>0</td>\n",
       "      <td>b</td>\n",
       "      <td>t</td>\n",
       "      <td>96</td>\n",
       "      <td>0.0</td>\n",
       "      <td>...</td>\n",
       "      <td>ff</td>\n",
       "      <td>t</td>\n",
       "      <td>960000</td>\n",
       "      <td>19</td>\n",
       "      <td>g</td>\n",
       "      <td>0</td>\n",
       "      <td>f</td>\n",
       "      <td>f</td>\n",
       "      <td>no.</td>\n",
       "      <td>NaN</td>\n",
       "    </tr>\n",
       "    <tr>\n",
       "      <th>3</th>\n",
       "      <td>o</td>\n",
       "      <td>g</td>\n",
       "      <td>48.0</td>\n",
       "      <td>17</td>\n",
       "      <td>f</td>\n",
       "      <td>0</td>\n",
       "      <td>335</td>\n",
       "      <td>a</td>\n",
       "      <td>f</td>\n",
       "      <td>0.0</td>\n",
       "      <td>...</td>\n",
       "      <td>f</td>\n",
       "      <td>i</td>\n",
       "      <td>NaN</td>\n",
       "      <td>0</td>\n",
       "      <td>120</td>\n",
       "      <td>g</td>\n",
       "      <td>1</td>\n",
       "      <td>f</td>\n",
       "      <td>f</td>\n",
       "      <td>no.</td>\n",
       "    </tr>\n",
       "    <tr>\n",
       "      <th>4</th>\n",
       "      <td>v</td>\n",
       "      <td>g</td>\n",
       "      <td>32.0</td>\n",
       "      <td>33</td>\n",
       "      <td>t</td>\n",
       "      <td>0</td>\n",
       "      <td>5</td>\n",
       "      <td>b</td>\n",
       "      <td>f</td>\n",
       "      <td>232.0</td>\n",
       "      <td>...</td>\n",
       "      <td>t</td>\n",
       "      <td>k</td>\n",
       "      <td>f</td>\n",
       "      <td>2320000</td>\n",
       "      <td>0</td>\n",
       "      <td>g</td>\n",
       "      <td>1</td>\n",
       "      <td>f</td>\n",
       "      <td>f</td>\n",
       "      <td>no.</td>\n",
       "    </tr>\n",
       "  </tbody>\n",
       "</table>\n",
       "<p>5 rows × 26 columns</p>\n",
       "</div>"
      ],
      "text/plain": [
       "  level_0 level_1  level_2 level_3 v33 v76  v12 v68 v50     v7  ... v28 v99  \\\n",
       "0       v       g     17.0      92   f   1   75   a   t   80.0  ...   t   c   \n",
       "1       v       s     16.0      92   f   0   29   b   f  200.0  ...   f   k   \n",
       "2      ff       g     31.0      25   f   0    b   t  96    0.0  ...  ff   t   \n",
       "3       o       g     48.0      17   f   0  335   a   f    0.0  ...   f   i   \n",
       "4       v       g     32.0      33   t   0    5   b   f  232.0  ...   t   k   \n",
       "\n",
       "      v95      v42  v53 v85 v9 v84  v44 classlabel  \n",
       "0       t   800000    5   g  0   f    f        no.  \n",
       "1     NaN  2000000    0   p  1   f    f        no.  \n",
       "2  960000       19    g   0  f   f  no.        NaN  \n",
       "3     NaN        0  120   g  1   f    f        no.  \n",
       "4       f  2320000    0   g  1   f    f        no.  \n",
       "\n",
       "[5 rows x 26 columns]"
      ]
     },
     "execution_count": 5,
     "metadata": {},
     "output_type": "execute_result"
    }
   ],
   "source": [
    "train_df = pd.read_csv(file_path).reset_index() #automatically adds additional column headers to the csv file\n",
    "\n",
    "train_df.head()"
   ]
  },
  {
   "cell_type": "markdown",
   "metadata": {},
   "source": [
    "## Data Preparation/Cleaning"
   ]
  },
  {
   "cell_type": "code",
   "execution_count": 6,
   "metadata": {},
   "outputs": [
    {
     "data": {
      "text/plain": [
       "(3700, 26)"
      ]
     },
     "execution_count": 6,
     "metadata": {},
     "output_type": "execute_result"
    }
   ],
   "source": [
    "train_df.shape"
   ]
  },
  {
   "cell_type": "markdown",
   "metadata": {},
   "source": [
    "*The dataset has 3.7K records*"
   ]
  },
  {
   "cell_type": "code",
   "execution_count": 7,
   "metadata": {
    "scrolled": true
   },
   "outputs": [
    {
     "name": "stdout",
     "output_type": "stream",
     "text": [
      "<class 'pandas.core.frame.DataFrame'>\n",
      "RangeIndex: 3700 entries, 0 to 3699\n",
      "Data columns (total 26 columns):\n",
      " #   Column      Non-Null Count  Dtype  \n",
      "---  ------      --------------  -----  \n",
      " 0   level_0     3634 non-null   object \n",
      " 1   level_1     3700 non-null   object \n",
      " 2   level_2     3661 non-null   float64\n",
      " 3   level_3     3700 non-null   object \n",
      " 4   v33         3700 non-null   object \n",
      " 5   v76         3700 non-null   object \n",
      " 6   v12         3682 non-null   object \n",
      " 7   v68         3678 non-null   object \n",
      " 8   v50         3634 non-null   object \n",
      " 9   v7          3667 non-null   float64\n",
      " 10  v70         3700 non-null   object \n",
      " 11  v55         3636 non-null   object \n",
      " 12  v20         3700 non-null   object \n",
      " 13  v24         3700 non-null   object \n",
      " 14  v32         3700 non-null   object \n",
      " 15  v97         3635 non-null   object \n",
      " 16  v28         3569 non-null   object \n",
      " 17  v99         3073 non-null   object \n",
      " 18  v95         2245 non-null   object \n",
      " 19  v42         3603 non-null   object \n",
      " 20  v53         3700 non-null   object \n",
      " 21  v85         3700 non-null   object \n",
      " 22  v9          3700 non-null   object \n",
      " 23  v84         3698 non-null   object \n",
      " 24  v44         3499 non-null   object \n",
      " 25  classlabel  2386 non-null   object \n",
      "dtypes: float64(2), object(24)\n",
      "memory usage: 751.7+ KB\n"
     ]
    }
   ],
   "source": [
    "train_df.info() #viewing the number of nulls and data type in each column"
   ]
  },
  {
   "cell_type": "markdown",
   "metadata": {},
   "source": [
    "About **30%** of the class labels are missing in the data. An easy fix would be to drop all samples with missing class labels however, we risk losing vital data that could potentially improve our model's performance.\n",
    "\n",
    "**Assumption 1**\n",
    "\n",
    "**Zooming in on the data, it appears that most of the missing values (especially for the class labels) are in adjacent columns to the left on the same row which resulted in the malformed data.**\n",
    "\n",
    "To validate the above assumption, we would use a simple function that counts the number of null values in each row. Since we are particulary interested in keeping as much class labels as possible, we would only count rowwise nulls where the class label is null."
   ]
  },
  {
   "cell_type": "code",
   "execution_count": 8,
   "metadata": {},
   "outputs": [],
   "source": [
    "def count_rowise_nulls(data):\n",
    "    \"\"\"\n",
    "    Function that counts the number of nulls in the last three cells in a row of a dataframe\n",
    "    :param data: takes the dataframe as input\n",
    "    return: count of nulls\n",
    "    \"\"\"\n",
    "    cnt_nulls = [] #list to hold the count of nulls\n",
    "    row_len = data.shape[0] #the number of rows in the dataset\n",
    "    col_len = len(data.columns) #the number of columns\n",
    "    for i in range(row_len):\n",
    "        each_row = data.iloc[i,:] #gets an array of each row\n",
    "        if any(list(each_row.isnull())[-3:]): #checks if any of the last 3 row values are null, which includes the class label\n",
    "            cnt_nulls.append(each_row[-3:].isnull().sum()) #stores the number of nulls in the last 3 adjacent cells\n",
    "        else:\n",
    "            cnt_nulls.append(0) #this is executed if there is no null in the last 3 values in the row\n",
    "    return cnt_nulls"
   ]
  },
  {
   "cell_type": "code",
   "execution_count": 9,
   "metadata": {},
   "outputs": [
    {
     "name": "stdout",
     "output_type": "stream",
     "text": [
      "Wall time: 1.26 s\n"
     ]
    }
   ],
   "source": [
    "%%time\n",
    "col_num_nulls = count_rowise_nulls(train_df)"
   ]
  },
  {
   "cell_type": "code",
   "execution_count": 10,
   "metadata": {},
   "outputs": [
    {
     "name": "stdout",
     "output_type": "stream",
     "text": [
      "Test passed!\n"
     ]
    }
   ],
   "source": [
    "#basic unit test to validate the output\n",
    "assert max(col_num_nulls)<= 3, 'The maximum count of non-nulls should not exceed 3'\n",
    "print('Test passed!')"
   ]
  },
  {
   "cell_type": "markdown",
   "metadata": {},
   "source": [
    "We have successful validated our first assumption to a good extent. To a good extent because some of the missing values are not in the immediate adjacent cells. However, in our data preparation we would first consider cases where the class label alone is missing before exploring other cases."
   ]
  },
  {
   "cell_type": "markdown",
   "metadata": {},
   "source": [
    "**Assumption 2**\n",
    "\n",
    "1. It is assumed that all values in each feature are of the same data type \n",
    "2. It is assumed that for missing class lables with non-null adjacent cells, the beginning of the malformation is where the first wrong data type appeared\n",
    "\n",
    "To validate the above assumption, functions are created to:\n",
    "1. Determine the prevalent data type in each column\n",
    "2. Get the column index of the first wrong data type for missing class labels with non-null adjacent cells\n",
    "3. relocate the data to the next cell\n",
    "4. Carry out unit tests to validate that the values in each column are of the same data type."
   ]
  },
  {
   "cell_type": "code",
   "execution_count": 11,
   "metadata": {},
   "outputs": [],
   "source": [
    "def get_dtypes(data):\n",
    "    \"\"\"\n",
    "    Function that gets the actual data type for each column in a dataframe\n",
    "    :param data: takes the dataframe as input\n",
    "    return: a dictionary of the data types\n",
    "    \"\"\"\n",
    "    column_data_types = {} #this dictionary will hold the data type for each column \n",
    "    for col in data.columns:\n",
    "        data_types = [] \n",
    "        for val in data[col]: #looping through the values in each column\n",
    "            try:\n",
    "                data_types.append(type(int(val))) #we would try to convert to an integer \n",
    "            except:\n",
    "                data_types.append(type(val))  #if the above operation fails we exit and store the data type \n",
    "        count_dict = dict(Counter(data_types)) #this counts the occurence of each data type in each column\n",
    "        col_dtype = max(count_dict, key=count_dict.get) #this variable stores the highest occuring data type\n",
    "        column_data_types[col] = col_dtype\n",
    "    return column_data_types"
   ]
  },
  {
   "cell_type": "code",
   "execution_count": 12,
   "metadata": {
    "scrolled": true
   },
   "outputs": [
    {
     "name": "stdout",
     "output_type": "stream",
     "text": [
      "Wall time: 103 ms\n"
     ]
    }
   ],
   "source": [
    "%%time\n",
    "#getting the prevailing data type for the train_df\n",
    "prevailing_col_dtypes = get_dtypes(train_df)"
   ]
  },
  {
   "cell_type": "code",
   "execution_count": 13,
   "metadata": {},
   "outputs": [],
   "source": [
    "def data_relocation(data, col_types, null_condition):\n",
    "    \"\"\"\n",
    "    This function relocates the data from the point of malformation to the assumed position as part of the\n",
    "    data cleaning process.\n",
    "    :param data: the dataframe to be cleaned\n",
    "    :param col_types: the dictionary of the prevalent data types\n",
    "    :null_condition: the count of nulls\n",
    "    return: doesn't return any value but updates the dataframe in-memory\n",
    "    \"\"\"\n",
    "    col_types_val = list(col_types.values()) #getting the dtypes and storing it as a list\n",
    "    length = data.shape[0] #storing the number of rows\n",
    "    for ind, num in zip(range(length),null_condition): #this will loop through each row and null_condition\n",
    "        if num == 1: #this allows us to focus on missing class label instances for now\n",
    "            start_indices = [] #creates a place holder to store the column index of where the malformation began\n",
    "            row_array = list(data.iloc[ind,:].values) #stores the original malformed row values\n",
    "            for i, val in zip(range(len(row_array)), row_array): #loops through each row value\n",
    "                try:\n",
    "                    col_types_val[i](val) #this tries to apply the prevailing column type to each value\n",
    "                except:\n",
    "                    start_indices.append(i) #this is executed once the above operation fails which registers the \\\n",
    "                    #index of a variable with the wrong data type.\n",
    "            start_index = start_indices[0] #this retrieves the first index only which marks the beginning of the malformation\n",
    "            \n",
    "            #the logic below keeps all values before the start_index, replaces the value of the start index with null\\\n",
    "            #then relocates the original values to the next cell\n",
    "            new_row_array = list(row_array[:start_index] + [np.nan] + row_array[start_index:-1])\n",
    "            data.loc[ind,:] = new_row_array #the dataframe is updated with the new row"
   ]
  },
  {
   "cell_type": "code",
   "execution_count": 14,
   "metadata": {
    "scrolled": true
   },
   "outputs": [
    {
     "name": "stdout",
     "output_type": "stream",
     "text": [
      "Wall time: 5.83 s\n"
     ]
    }
   ],
   "source": [
    "%%time\n",
    "data_relocation(train_df, prevailing_col_dtypes, col_num_nulls)"
   ]
  },
  {
   "cell_type": "code",
   "execution_count": 15,
   "metadata": {},
   "outputs": [
    {
     "data": {
      "text/html": [
       "<div>\n",
       "<style scoped>\n",
       "    .dataframe tbody tr th:only-of-type {\n",
       "        vertical-align: middle;\n",
       "    }\n",
       "\n",
       "    .dataframe tbody tr th {\n",
       "        vertical-align: top;\n",
       "    }\n",
       "\n",
       "    .dataframe thead th {\n",
       "        text-align: right;\n",
       "    }\n",
       "</style>\n",
       "<table border=\"1\" class=\"dataframe\">\n",
       "  <thead>\n",
       "    <tr style=\"text-align: right;\">\n",
       "      <th></th>\n",
       "      <th>level_0</th>\n",
       "      <th>level_1</th>\n",
       "      <th>level_2</th>\n",
       "      <th>level_3</th>\n",
       "      <th>v33</th>\n",
       "      <th>v76</th>\n",
       "      <th>v12</th>\n",
       "      <th>v68</th>\n",
       "      <th>v50</th>\n",
       "      <th>v7</th>\n",
       "      <th>...</th>\n",
       "      <th>v28</th>\n",
       "      <th>v99</th>\n",
       "      <th>v95</th>\n",
       "      <th>v42</th>\n",
       "      <th>v53</th>\n",
       "      <th>v85</th>\n",
       "      <th>v9</th>\n",
       "      <th>v84</th>\n",
       "      <th>v44</th>\n",
       "      <th>classlabel</th>\n",
       "    </tr>\n",
       "  </thead>\n",
       "  <tbody>\n",
       "    <tr>\n",
       "      <th>0</th>\n",
       "      <td>v</td>\n",
       "      <td>g</td>\n",
       "      <td>17.0</td>\n",
       "      <td>92</td>\n",
       "      <td>f</td>\n",
       "      <td>1</td>\n",
       "      <td>75</td>\n",
       "      <td>a</td>\n",
       "      <td>t</td>\n",
       "      <td>80</td>\n",
       "      <td>...</td>\n",
       "      <td>t</td>\n",
       "      <td>c</td>\n",
       "      <td>t</td>\n",
       "      <td>800000</td>\n",
       "      <td>5</td>\n",
       "      <td>g</td>\n",
       "      <td>0</td>\n",
       "      <td>f</td>\n",
       "      <td>f</td>\n",
       "      <td>no.</td>\n",
       "    </tr>\n",
       "    <tr>\n",
       "      <th>1</th>\n",
       "      <td>v</td>\n",
       "      <td>s</td>\n",
       "      <td>16.0</td>\n",
       "      <td>92</td>\n",
       "      <td>f</td>\n",
       "      <td>0</td>\n",
       "      <td>29</td>\n",
       "      <td>b</td>\n",
       "      <td>f</td>\n",
       "      <td>200</td>\n",
       "      <td>...</td>\n",
       "      <td>f</td>\n",
       "      <td>k</td>\n",
       "      <td>NaN</td>\n",
       "      <td>2000000</td>\n",
       "      <td>0</td>\n",
       "      <td>p</td>\n",
       "      <td>1</td>\n",
       "      <td>f</td>\n",
       "      <td>f</td>\n",
       "      <td>no.</td>\n",
       "    </tr>\n",
       "    <tr>\n",
       "      <th>2</th>\n",
       "      <td>ff</td>\n",
       "      <td>g</td>\n",
       "      <td>31.0</td>\n",
       "      <td>25</td>\n",
       "      <td>f</td>\n",
       "      <td>0</td>\n",
       "      <td>NaN</td>\n",
       "      <td>b</td>\n",
       "      <td>t</td>\n",
       "      <td>96</td>\n",
       "      <td>...</td>\n",
       "      <td>f</td>\n",
       "      <td>ff</td>\n",
       "      <td>t</td>\n",
       "      <td>960000</td>\n",
       "      <td>19</td>\n",
       "      <td>g</td>\n",
       "      <td>0</td>\n",
       "      <td>f</td>\n",
       "      <td>f</td>\n",
       "      <td>no.</td>\n",
       "    </tr>\n",
       "    <tr>\n",
       "      <th>3</th>\n",
       "      <td>o</td>\n",
       "      <td>g</td>\n",
       "      <td>48.0</td>\n",
       "      <td>17</td>\n",
       "      <td>f</td>\n",
       "      <td>0</td>\n",
       "      <td>335</td>\n",
       "      <td>a</td>\n",
       "      <td>f</td>\n",
       "      <td>0</td>\n",
       "      <td>...</td>\n",
       "      <td>f</td>\n",
       "      <td>i</td>\n",
       "      <td>NaN</td>\n",
       "      <td>0</td>\n",
       "      <td>120</td>\n",
       "      <td>g</td>\n",
       "      <td>1</td>\n",
       "      <td>f</td>\n",
       "      <td>f</td>\n",
       "      <td>no.</td>\n",
       "    </tr>\n",
       "    <tr>\n",
       "      <th>4</th>\n",
       "      <td>v</td>\n",
       "      <td>g</td>\n",
       "      <td>32.0</td>\n",
       "      <td>33</td>\n",
       "      <td>t</td>\n",
       "      <td>0</td>\n",
       "      <td>5</td>\n",
       "      <td>b</td>\n",
       "      <td>f</td>\n",
       "      <td>232</td>\n",
       "      <td>...</td>\n",
       "      <td>t</td>\n",
       "      <td>k</td>\n",
       "      <td>f</td>\n",
       "      <td>2320000</td>\n",
       "      <td>0</td>\n",
       "      <td>g</td>\n",
       "      <td>1</td>\n",
       "      <td>f</td>\n",
       "      <td>f</td>\n",
       "      <td>no.</td>\n",
       "    </tr>\n",
       "  </tbody>\n",
       "</table>\n",
       "<p>5 rows × 26 columns</p>\n",
       "</div>"
      ],
      "text/plain": [
       "  level_0 level_1  level_2 level_3 v33 v76  v12 v68 v50   v7  ... v28 v99  \\\n",
       "0       v       g     17.0      92   f   1   75   a   t   80  ...   t   c   \n",
       "1       v       s     16.0      92   f   0   29   b   f  200  ...   f   k   \n",
       "2      ff       g     31.0      25   f   0  NaN   b   t   96  ...   f  ff   \n",
       "3       o       g     48.0      17   f   0  335   a   f    0  ...   f   i   \n",
       "4       v       g     32.0      33   t   0    5   b   f  232  ...   t   k   \n",
       "\n",
       "   v95      v42  v53 v85 v9 v84 v44 classlabel  \n",
       "0    t   800000    5   g  0   f   f        no.  \n",
       "1  NaN  2000000    0   p  1   f   f        no.  \n",
       "2    t   960000   19   g  0   f   f        no.  \n",
       "3  NaN        0  120   g  1   f   f        no.  \n",
       "4    f  2320000    0   g  1   f   f        no.  \n",
       "\n",
       "[5 rows x 26 columns]"
      ]
     },
     "execution_count": 15,
     "metadata": {},
     "output_type": "execute_result"
    }
   ],
   "source": [
    "train_df.head()"
   ]
  },
  {
   "cell_type": "code",
   "execution_count": 16,
   "metadata": {},
   "outputs": [
    {
     "name": "stdout",
     "output_type": "stream",
     "text": [
      "The class label now has 201 missing values compared with 1314 before data cleaning. The new missing data is only 5.43% of the dataset\n"
     ]
    }
   ],
   "source": [
    "count_old_nulls = 1314\n",
    "count_new_nulls = train_df.classlabel.isnull().sum()\n",
    "pct_nulls = round((count_new_nulls/train_df.shape[0])*100, 2)\n",
    "print(\"The class label now has {0} missing values compared with {1} before data cleaning. \\\n",
    "The new missing data is only {2}% of the dataset\".format(\n",
    "    count_new_nulls, count_old_nulls, pct_nulls))"
   ]
  },
  {
   "cell_type": "markdown",
   "metadata": {},
   "source": [
    "Finally, we need to validate by checking consistent data types in each column. In simpler terms, there should be no values with the wrong data types in any column.\n",
    "\n",
    "firstly, we need to filter the dataframe to the non-null class labels only"
   ]
  },
  {
   "cell_type": "code",
   "execution_count": 17,
   "metadata": {},
   "outputs": [],
   "source": [
    "#filtering to non-nulls\n",
    "train_df_class_non_null = train_df[~train_df['classlabel'].isnull()]"
   ]
  },
  {
   "cell_type": "markdown",
   "metadata": {},
   "source": [
    "secondly, we acknowledge the presence of null values in other columns. so we need to fill nulls with a value"
   ]
  },
  {
   "cell_type": "code",
   "execution_count": 18,
   "metadata": {},
   "outputs": [],
   "source": [
    "#fill na with zero, which should work well across all columns\n",
    "train_df_class_non_null.fillna(0, inplace=True)"
   ]
  },
  {
   "cell_type": "markdown",
   "metadata": {},
   "source": [
    "lastly, run a basic unit test below to confirm. Since pandas recognises most columns as strings, we can focus on the integer columns validation and should be fine"
   ]
  },
  {
   "cell_type": "code",
   "execution_count": 19,
   "metadata": {},
   "outputs": [],
   "source": [
    "#first test\n",
    "for col_name, dtype in prevailing_col_dtypes.items():\n",
    "    if dtype == int: #checks if datatype is integer\n",
    "        train_df_class_non_null[col_name] = train_df_class_non_null[col_name].astype(dtype) #applies the data type to the column"
   ]
  },
  {
   "cell_type": "code",
   "execution_count": 20,
   "metadata": {},
   "outputs": [],
   "source": [
    "#save the processed train data for easy load\n",
    "train_df_class_non_null.to_csv('Processed_train_data.csv', index=None)"
   ]
  },
  {
   "cell_type": "code",
   "execution_count": 21,
   "metadata": {},
   "outputs": [
    {
     "name": "stdout",
     "output_type": "stream",
     "text": [
      "All Tests passed!\n"
     ]
    }
   ],
   "source": [
    "#final unit test\n",
    "column_dtypes = list(prevailing_col_dtypes.values())\n",
    "for col_name, dt in zip(train_df_class_non_null.columns, column_dtypes):\n",
    "    if dtype == int:\n",
    "        assert train_df_class_non_null[col_name].dtype==dt or 'int32', 'Wrong data type'\n",
    "    else:\n",
    "        assert train_df_class_non_null[col_name].dtype==dt or 'object', 'Wrong data type'\n",
    "\n",
    "print('All Tests passed!') #This is printed only if there are no errors"
   ]
  },
  {
   "cell_type": "markdown",
   "metadata": {},
   "source": [
    "**Through the above data cleaning steps we have successfully kept 95% of the data. \n",
    "We can now commence data exploration and visualization**"
   ]
  },
  {
   "cell_type": "markdown",
   "metadata": {},
   "source": [
    "## Data Exploration and Visualization"
   ]
  },
  {
   "cell_type": "code",
   "execution_count": 22,
   "metadata": {},
   "outputs": [
    {
     "data": {
      "text/html": [
       "<div>\n",
       "<style scoped>\n",
       "    .dataframe tbody tr th:only-of-type {\n",
       "        vertical-align: middle;\n",
       "    }\n",
       "\n",
       "    .dataframe tbody tr th {\n",
       "        vertical-align: top;\n",
       "    }\n",
       "\n",
       "    .dataframe thead th {\n",
       "        text-align: right;\n",
       "    }\n",
       "</style>\n",
       "<table border=\"1\" class=\"dataframe\">\n",
       "  <thead>\n",
       "    <tr style=\"text-align: right;\">\n",
       "      <th></th>\n",
       "      <th>level_2</th>\n",
       "      <th>level_3</th>\n",
       "      <th>v76</th>\n",
       "      <th>v12</th>\n",
       "      <th>v7</th>\n",
       "      <th>v70</th>\n",
       "      <th>v55</th>\n",
       "      <th>v20</th>\n",
       "      <th>v32</th>\n",
       "      <th>v97</th>\n",
       "      <th>v42</th>\n",
       "      <th>v53</th>\n",
       "      <th>v9</th>\n",
       "    </tr>\n",
       "  </thead>\n",
       "  <tbody>\n",
       "    <tr>\n",
       "      <th>count</th>\n",
       "      <td>3499.000000</td>\n",
       "      <td>3499.000000</td>\n",
       "      <td>3499.000000</td>\n",
       "      <td>3499.000000</td>\n",
       "      <td>3499.000000</td>\n",
       "      <td>3499.0</td>\n",
       "      <td>3499.000000</td>\n",
       "      <td>3499.000000</td>\n",
       "      <td>3499.000000</td>\n",
       "      <td>3499.000000</td>\n",
       "      <td>3.499000e+03</td>\n",
       "      <td>3499.000000</td>\n",
       "      <td>3499.000000</td>\n",
       "    </tr>\n",
       "    <tr>\n",
       "      <th>mean</th>\n",
       "      <td>31.857102</td>\n",
       "      <td>40.730209</td>\n",
       "      <td>3.087454</td>\n",
       "      <td>126.218634</td>\n",
       "      <td>162.022578</td>\n",
       "      <td>0.0</td>\n",
       "      <td>1315.905973</td>\n",
       "      <td>4.306373</td>\n",
       "      <td>2.828237</td>\n",
       "      <td>44.697056</td>\n",
       "      <td>1.620226e+06</td>\n",
       "      <td>2334.309803</td>\n",
       "      <td>0.495570</td>\n",
       "    </tr>\n",
       "    <tr>\n",
       "      <th>std</th>\n",
       "      <td>12.608574</td>\n",
       "      <td>31.406023</td>\n",
       "      <td>4.279582</td>\n",
       "      <td>226.785620</td>\n",
       "      <td>155.734802</td>\n",
       "      <td>0.0</td>\n",
       "      <td>3222.346048</td>\n",
       "      <td>6.864938</td>\n",
       "      <td>1.046349</td>\n",
       "      <td>30.838830</td>\n",
       "      <td>1.557348e+06</td>\n",
       "      <td>8943.940550</td>\n",
       "      <td>0.500052</td>\n",
       "    </tr>\n",
       "    <tr>\n",
       "      <th>min</th>\n",
       "      <td>0.000000</td>\n",
       "      <td>0.000000</td>\n",
       "      <td>0.000000</td>\n",
       "      <td>0.000000</td>\n",
       "      <td>0.000000</td>\n",
       "      <td>0.0</td>\n",
       "      <td>0.000000</td>\n",
       "      <td>0.000000</td>\n",
       "      <td>0.000000</td>\n",
       "      <td>0.000000</td>\n",
       "      <td>0.000000e+00</td>\n",
       "      <td>0.000000</td>\n",
       "      <td>0.000000</td>\n",
       "    </tr>\n",
       "    <tr>\n",
       "      <th>25%</th>\n",
       "      <td>22.000000</td>\n",
       "      <td>8.000000</td>\n",
       "      <td>0.000000</td>\n",
       "      <td>4.000000</td>\n",
       "      <td>0.000000</td>\n",
       "      <td>0.0</td>\n",
       "      <td>15.000000</td>\n",
       "      <td>0.000000</td>\n",
       "      <td>2.000000</td>\n",
       "      <td>15.000000</td>\n",
       "      <td>0.000000e+00</td>\n",
       "      <td>0.000000</td>\n",
       "      <td>0.000000</td>\n",
       "    </tr>\n",
       "    <tr>\n",
       "      <th>50%</th>\n",
       "      <td>28.000000</td>\n",
       "      <td>33.000000</td>\n",
       "      <td>1.000000</td>\n",
       "      <td>25.000000</td>\n",
       "      <td>120.000000</td>\n",
       "      <td>0.0</td>\n",
       "      <td>125.000000</td>\n",
       "      <td>2.000000</td>\n",
       "      <td>3.000000</td>\n",
       "      <td>44.000000</td>\n",
       "      <td>1.200000e+06</td>\n",
       "      <td>134.000000</td>\n",
       "      <td>0.000000</td>\n",
       "    </tr>\n",
       "    <tr>\n",
       "      <th>75%</th>\n",
       "      <td>39.000000</td>\n",
       "      <td>75.000000</td>\n",
       "      <td>5.000000</td>\n",
       "      <td>85.000000</td>\n",
       "      <td>280.000000</td>\n",
       "      <td>0.0</td>\n",
       "      <td>835.000000</td>\n",
       "      <td>6.000000</td>\n",
       "      <td>4.000000</td>\n",
       "      <td>72.000000</td>\n",
       "      <td>2.800000e+06</td>\n",
       "      <td>1000.000000</td>\n",
       "      <td>1.000000</td>\n",
       "    </tr>\n",
       "    <tr>\n",
       "      <th>max</th>\n",
       "      <td>80.000000</td>\n",
       "      <td>92.000000</td>\n",
       "      <td>28.000000</td>\n",
       "      <td>875.000000</td>\n",
       "      <td>1160.000000</td>\n",
       "      <td>0.0</td>\n",
       "      <td>26335.000000</td>\n",
       "      <td>67.000000</td>\n",
       "      <td>6.000000</td>\n",
       "      <td>99.000000</td>\n",
       "      <td>1.160000e+07</td>\n",
       "      <td>100000.000000</td>\n",
       "      <td>1.000000</td>\n",
       "    </tr>\n",
       "  </tbody>\n",
       "</table>\n",
       "</div>"
      ],
      "text/plain": [
       "           level_2      level_3          v76          v12           v7  \\\n",
       "count  3499.000000  3499.000000  3499.000000  3499.000000  3499.000000   \n",
       "mean     31.857102    40.730209     3.087454   126.218634   162.022578   \n",
       "std      12.608574    31.406023     4.279582   226.785620   155.734802   \n",
       "min       0.000000     0.000000     0.000000     0.000000     0.000000   \n",
       "25%      22.000000     8.000000     0.000000     4.000000     0.000000   \n",
       "50%      28.000000    33.000000     1.000000    25.000000   120.000000   \n",
       "75%      39.000000    75.000000     5.000000    85.000000   280.000000   \n",
       "max      80.000000    92.000000    28.000000   875.000000  1160.000000   \n",
       "\n",
       "          v70           v55          v20          v32          v97  \\\n",
       "count  3499.0   3499.000000  3499.000000  3499.000000  3499.000000   \n",
       "mean      0.0   1315.905973     4.306373     2.828237    44.697056   \n",
       "std       0.0   3222.346048     6.864938     1.046349    30.838830   \n",
       "min       0.0      0.000000     0.000000     0.000000     0.000000   \n",
       "25%       0.0     15.000000     0.000000     2.000000    15.000000   \n",
       "50%       0.0    125.000000     2.000000     3.000000    44.000000   \n",
       "75%       0.0    835.000000     6.000000     4.000000    72.000000   \n",
       "max       0.0  26335.000000    67.000000     6.000000    99.000000   \n",
       "\n",
       "                v42            v53           v9  \n",
       "count  3.499000e+03    3499.000000  3499.000000  \n",
       "mean   1.620226e+06    2334.309803     0.495570  \n",
       "std    1.557348e+06    8943.940550     0.500052  \n",
       "min    0.000000e+00       0.000000     0.000000  \n",
       "25%    0.000000e+00       0.000000     0.000000  \n",
       "50%    1.200000e+06     134.000000     0.000000  \n",
       "75%    2.800000e+06    1000.000000     1.000000  \n",
       "max    1.160000e+07  100000.000000     1.000000  "
      ]
     },
     "execution_count": 22,
     "metadata": {},
     "output_type": "execute_result"
    }
   ],
   "source": [
    "# train_df_class_non_null = pd.read_csv('Processed_train_data.csv')\n",
    "train_df_class_non_null.describe()"
   ]
  },
  {
   "cell_type": "markdown",
   "metadata": {},
   "source": [
    "**v70 and v9** appear not to contain any useful information especially v70 which has no data distribution."
   ]
  },
  {
   "cell_type": "code",
   "execution_count": 23,
   "metadata": {},
   "outputs": [
    {
     "data": {
      "text/plain": [
       "0    3499\n",
       "Name: v70, dtype: int64"
      ]
     },
     "execution_count": 23,
     "metadata": {},
     "output_type": "execute_result"
    }
   ],
   "source": [
    "pd.value_counts(train_df_class_non_null['v70'])"
   ]
  },
  {
   "cell_type": "code",
   "execution_count": 24,
   "metadata": {
    "scrolled": true
   },
   "outputs": [
    {
     "data": {
      "text/plain": [
       "0    1765\n",
       "1    1734\n",
       "Name: v9, dtype: int64"
      ]
     },
     "execution_count": 24,
     "metadata": {},
     "output_type": "execute_result"
    }
   ],
   "source": [
    "pd.value_counts(train_df_class_non_null['v9'])"
   ]
  },
  {
   "cell_type": "markdown",
   "metadata": {},
   "source": [
    "We would drop feature V70 moving forward but keep feature v9 as it appears to be a categorical/binary variable.\n",
    "\n",
    "Now, Let us visualize the distribution of the target variable"
   ]
  },
  {
   "cell_type": "code",
   "execution_count": 25,
   "metadata": {},
   "outputs": [
    {
     "name": "stdout",
     "output_type": "stream",
     "text": [
      "Number of No:  3238\n",
      "Number of Yes :  261\n"
     ]
    },
    {
     "data": {
      "image/png": "[encoded data removed]",
      "text/plain": [
       "<Figure size 432x288 with 1 Axes>"
      ]
     },
     "metadata": {
      "needs_background": "light"
     },
     "output_type": "display_data"
    }
   ],
   "source": [
    "y = train_df_class_non_null.classlabel\n",
    "ax = sns.countplot(y,label=\"Count\")\n",
    "N, Y = y.value_counts()\n",
    "print('Number of No: ',N)\n",
    "print('Number of Yes : ',Y)"
   ]
  },
  {
   "cell_type": "markdown",
   "metadata": {},
   "source": [
    "**This is an imbalanced dataset**.\n",
    "\n",
    "Next we need to create a violin plot of the numeric features but first we need to standardize the features"
   ]
  },
  {
   "cell_type": "code",
   "execution_count": 26,
   "metadata": {},
   "outputs": [],
   "source": [
    "num_features = ['level_2','level_3','v76','v12','v7','v55','v20','v32','v97','v42','v53','v9']"
   ]
  },
  {
   "cell_type": "code",
   "execution_count": 27,
   "metadata": {
    "scrolled": true
   },
   "outputs": [
    {
     "data": {
      "text/plain": [
       "(array([ 0,  1,  2,  3,  4,  5,  6,  7,  8,  9, 10, 11]),\n",
       " <a list of 12 Text xticklabel objects>)"
      ]
     },
     "execution_count": 27,
     "metadata": {},
     "output_type": "execute_result"
    },
    {
     "data": {
      "image/png": "[encoded data removed]",
      "text/plain": [
       "<Figure size 720x504 with 1 Axes>"
      ]
     },
     "metadata": {
      "needs_background": "light"
     },
     "output_type": "display_data"
    }
   ],
   "source": [
    "data_numeric = train_df_class_non_null[num_features] #filtering only the numeric features\n",
    "data_standardized = (data_numeric - data_numeric.mean()) / (data_numeric.std())\n",
    "data_viz = pd.concat([y,data_standardized], axis=1)\n",
    "data_viz = pd.melt(data_viz,id_vars=\"classlabel\",\n",
    "                    var_name=\"features\",\n",
    "                    value_name='value')\n",
    "plt.figure(figsize=(10,7))\n",
    "sns.violinplot(x=\"features\", y=\"value\", hue=\"classlabel\", data=data_viz,split=True, inner=\"quart\")\n",
    "plt.xticks(rotation=90)"
   ]
  },
  {
   "cell_type": "markdown",
   "metadata": {},
   "source": [
    "The numeric variables do not seem to provide visible separation of the class label. This is further confirmed by the box plot below. It is however, apparent that most of the numberic features are **multi-modal**"
   ]
  },
  {
   "cell_type": "code",
   "execution_count": 28,
   "metadata": {
    "scrolled": true
   },
   "outputs": [
    {
     "data": {
      "text/plain": [
       "(array([ 0,  1,  2,  3,  4,  5,  6,  7,  8,  9, 10, 11]),\n",
       " <a list of 12 Text xticklabel objects>)"
      ]
     },
     "execution_count": 28,
     "metadata": {},
     "output_type": "execute_result"
    },
    {
     "data": {
      "image/png": "[encoded data removed]",
      "text/plain": [
       "<Figure size 720x504 with 1 Axes>"
      ]
     },
     "metadata": {
      "needs_background": "light"
     },
     "output_type": "display_data"
    }
   ],
   "source": [
    "#box plot\n",
    "plt.figure(figsize=(10,7))\n",
    "sns.boxplot(x=\"features\", y=\"value\", hue=\"classlabel\", data=data_viz)\n",
    "plt.xticks(rotation=90)"
   ]
  },
  {
   "cell_type": "markdown",
   "metadata": {},
   "source": [
    "Next, we observe the correlation between all features. But first we need to convert the categorical features to numerical features"
   ]
  },
  {
   "cell_type": "code",
   "execution_count": 29,
   "metadata": {},
   "outputs": [],
   "source": [
    "cat_features = [col for col in train_df_class_non_null.columns if col !='v70' and col not in num_features]"
   ]
  },
  {
   "cell_type": "code",
   "execution_count": 30,
   "metadata": {},
   "outputs": [],
   "source": [
    "def preprocess_categorical(data, features):\n",
    "    \"\"\"\n",
    "    This function simply converts categorical variables to numeric variables.\n",
    "    :param data: the dataframe to be cleaned\n",
    "    :param features: categorical features\n",
    "    return: doesn't return any value but transforms the dataframe in-memory\n",
    "    \"\"\"\n",
    "    for col in features:\n",
    "        data[col].replace({0:'0'}, inplace=True)#replace the filled null values as string ero\n",
    "        le = LabelEncoder() # Create an instance of label Encoder.\n",
    "        data[col] = le.fit_transform(data[col]) #fit and transform the variable to numeric"
   ]
  },
  {
   "cell_type": "code",
   "execution_count": 31,
   "metadata": {},
   "outputs": [
    {
     "name": "stdout",
     "output_type": "stream",
     "text": [
      "Wall time: 24 ms\n"
     ]
    }
   ],
   "source": [
    "%%time\n",
    "preprocess_categorical(train_df_class_non_null, cat_features)"
   ]
  },
  {
   "cell_type": "code",
   "execution_count": 32,
   "metadata": {},
   "outputs": [
    {
     "data": {
      "text/plain": [
       "1    3238\n",
       "0     261\n",
       "Name: classlabel, dtype: int64"
      ]
     },
     "execution_count": 32,
     "metadata": {},
     "output_type": "execute_result"
    }
   ],
   "source": [
    "##simple test\n",
    "pd.value_counts(train_df_class_non_null['classlabel'])"
   ]
  },
  {
   "cell_type": "code",
   "execution_count": 33,
   "metadata": {
    "scrolled": true
   },
   "outputs": [
    {
     "data": {
      "text/plain": [
       "<matplotlib.axes._subplots.AxesSubplot at 0x2b501f48f08>"
      ]
     },
     "execution_count": 33,
     "metadata": {},
     "output_type": "execute_result"
    },
    {
     "data": {
      "image/png": "[encoded data removed]",
      "text/plain": [
       "<Figure size 1296x1296 with 2 Axes>"
      ]
     },
     "metadata": {
      "needs_background": "light"
     },
     "output_type": "display_data"
    }
   ],
   "source": [
    "#correlation map\n",
    "f,ax = plt.subplots(figsize=(18, 18))\n",
    "x = train_df_class_non_null.iloc[:,:-1]#all the data except the class label\n",
    "# x = data_numeric\n",
    "sns.heatmap(x.corr(), annot=True, linewidths=.5, fmt= '.1f',ax=ax)"
   ]
  },
  {
   "cell_type": "markdown",
   "metadata": {},
   "source": [
    "There are a number of correlated features:\n",
    "1. **V7 and v42**\n",
    "2. **V85 and v24**\n",
    "3. **v84 and v9** and\n",
    "4. **v44 and v84**"
   ]
  },
  {
   "cell_type": "code",
   "execution_count": 34,
   "metadata": {},
   "outputs": [],
   "source": [
    "cols_to_drop = ['v84', 'v70', 'v85', 'v7']\n",
    "train_data = train_df_class_non_null.drop(cols_to_drop, axis=1)"
   ]
  },
  {
   "cell_type": "markdown",
   "metadata": {},
   "source": [
    "## Modeling "
   ]
  },
  {
   "cell_type": "code",
   "execution_count": 35,
   "metadata": {},
   "outputs": [],
   "source": [
    "X = train_data.iloc[:,:-1]\n",
    "y = train_data['classlabel']\n",
    "X_train, X_val, Y_train, Y_val = train_test_split(X, y, test_size=0.25, random_state=1)"
   ]
  },
  {
   "cell_type": "code",
   "execution_count": 36,
   "metadata": {},
   "outputs": [
    {
     "name": "stdout",
     "output_type": "stream",
     "text": [
      "Dataset shape Counter({1: 808, 0: 67})\n"
     ]
    }
   ],
   "source": [
    "print('Dataset shape %s' % Counter(Y_val))"
   ]
  },
  {
   "cell_type": "code",
   "execution_count": 37,
   "metadata": {},
   "outputs": [],
   "source": [
    "baseline_model = LogisticRegression().fit(X_train, Y_train)"
   ]
  },
  {
   "cell_type": "code",
   "execution_count": 38,
   "metadata": {},
   "outputs": [],
   "source": [
    "y_pred = baseline_model.predict(X_val)"
   ]
  },
  {
   "cell_type": "code",
   "execution_count": 39,
   "metadata": {},
   "outputs": [],
   "source": [
    "from sklearn.metrics import accuracy_score, precision_score, recall_score"
   ]
  },
  {
   "cell_type": "code",
   "execution_count": 40,
   "metadata": {},
   "outputs": [
    {
     "name": "stdout",
     "output_type": "stream",
     "text": [
      "the accuracy: 0.9234285714285714\n",
      "the precision: 0.9234285714285714\n",
      "the recall: 1.0\n"
     ]
    }
   ],
   "source": [
    "print(\"the accuracy: %s\" % accuracy_score(Y_val, y_pred))\n",
    "print(\"the precision: %s\" % precision_score(Y_val, y_pred))\n",
    "print(\"the recall: %s\" % recall_score(Y_val, y_pred))"
   ]
  },
  {
   "cell_type": "code",
   "execution_count": 41,
   "metadata": {},
   "outputs": [
    {
     "data": {
      "image/png": "[encoded data removed]",
      "text/plain": [
       "<Figure size 360x360 with 1 Axes>"
      ]
     },
     "metadata": {
      "needs_background": "light"
     },
     "output_type": "display_data"
    }
   ],
   "source": [
    "conf_matrix = confusion_matrix(y_true=Y_val, y_pred=y_pred)\n",
    "\n",
    "# Print the confusion matrix using Matplotlib\n",
    "\n",
    "fig, ax = plt.subplots(figsize=(5, 5))\n",
    "ax.matshow(conf_matrix, cmap=plt.cm.Blues, alpha=0.3)\n",
    "for i in range(conf_matrix.shape[0]):\n",
    "    for j in range(conf_matrix.shape[1]):\n",
    "        ax.text(x=j, y=i,s=conf_matrix[i, j], va='center', ha='center', size='xx-large')\n",
    "\n",
    "plt.xlabel('Predictions', fontsize=18)\n",
    "plt.ylabel('Actuals', fontsize=18)\n",
    "plt.title('Confusion Matrix', fontsize=18)\n",
    "plt.show()"
   ]
  },
  {
   "cell_type": "code",
   "execution_count": 42,
   "metadata": {},
   "outputs": [
    {
     "name": "stdout",
     "output_type": "stream",
     "text": [
      "Resampled dataset shape Counter({1: 2430, 0: 2430})\n"
     ]
    }
   ],
   "source": [
    "from imblearn.over_sampling import SMOTE\n",
    "# Apply SMOTE to balance the dataset\n",
    "sm = SMOTE(random_state=42)\n",
    "X_ov, y_ov = sm.fit_resample(X_train, Y_train)\n",
    "\n",
    "print('Resampled dataset shape %s' % Counter(y_ov))"
   ]
  },
  {
   "cell_type": "code",
   "execution_count": 43,
   "metadata": {},
   "outputs": [],
   "source": [
    "LR_oversample = LogisticRegression().fit(X_ov, y_ov)"
   ]
  },
  {
   "cell_type": "code",
   "execution_count": 44,
   "metadata": {},
   "outputs": [],
   "source": [
    "y_pred_ov = LR_oversample.predict(X_val)"
   ]
  },
  {
   "cell_type": "code",
   "execution_count": 45,
   "metadata": {},
   "outputs": [
    {
     "name": "stdout",
     "output_type": "stream",
     "text": [
      "the oversampling accuracy: 0.632\n",
      "the oversampling precision: 0.9673076923076923\n",
      "the oversampling recall: 0.6225247524752475\n"
     ]
    }
   ],
   "source": [
    "print(\"the oversampling accuracy: %s\" % accuracy_score(Y_val, y_pred_ov))\n",
    "print(\"the oversampling precision: %s\" % precision_score(Y_val, y_pred_ov))\n",
    "print(\"the oversampling recall: %s\" % recall_score(Y_val, y_pred_ov))"
   ]
  },
  {
   "cell_type": "code",
   "execution_count": 46,
   "metadata": {
    "scrolled": true
   },
   "outputs": [
    {
     "data": {
      "image/png": "[encoded data removed]",
      "text/plain": [
       "<Figure size 360x360 with 1 Axes>"
      ]
     },
     "metadata": {
      "needs_background": "light"
     },
     "output_type": "display_data"
    }
   ],
   "source": [
    "conf_matrix = confusion_matrix(y_true=Y_val, y_pred=y_pred_ov)\n",
    "\n",
    "# Print the confusion matrix using Matplotlib\n",
    "\n",
    "fig, ax = plt.subplots(figsize=(5, 5))\n",
    "ax.matshow(conf_matrix, cmap=plt.cm.Blues, alpha=0.3)\n",
    "for i in range(conf_matrix.shape[0]):\n",
    "    for j in range(conf_matrix.shape[1]):\n",
    "        ax.text(x=j, y=i,s=conf_matrix[i, j], va='center', ha='center', size='xx-large')\n",
    "\n",
    "plt.xlabel('Predictions', fontsize=18)\n",
    "plt.ylabel('Actuals', fontsize=18)\n",
    "plt.title('Confusion Matrix Oversampling', fontsize=18)\n",
    "plt.show()"
   ]
  },
  {
   "cell_type": "markdown",
   "metadata": {},
   "source": [
    "## Prediction"
   ]
  },
  {
   "cell_type": "markdown",
   "metadata": {},
   "source": [
    "The steps below would be used to deliver predictions on the validation (ou-of-box) set:\n",
    "\n",
    "- Package the various preprocessing steps into a utility script called 'preprocess.py'\n",
    "- Load and preprocess the validation data\n",
    "- Run batch predictions using the two models above\n",
    "- Evaluate predictions using accuracy, precision and recall."
   ]
  },
  {
   "cell_type": "code",
   "execution_count": 47,
   "metadata": {
    "scrolled": true
   },
   "outputs": [
    {
     "name": "stdout",
     "output_type": "stream",
     "text": [
      "import pandas as pd\n",
      "import numpy as np\n",
      "import math\n",
      "from sklearn.preprocessing import LabelEncoder\n",
      "from collections import Counter\n",
      "\n",
      "\n",
      "def count_rowise_nulls(data):\n",
      "    \"\"\"\n",
      "    Function that counts the number of nulls in the last three cells in a row of a dataframe\n",
      "    :param data: takes the dataframe as input\n",
      "    return: count of nulls\n",
      "    \"\"\"\n",
      "    cnt_nulls = [] #list to hold the count of non nulls\n",
      "    row_len = data.shape[0] #the number of rows in the dataset\n",
      "    col_len = len(data.columns) #the number of columns\n",
      "    for i in range(row_len):\n",
      "        each_row = data.iloc[i,:] #gets an array of each row\n",
      "        if any(list(each_row.isnull())[-3:]): #checks if any of the last 3 row values are null, which includes the class label\n",
      "            cnt_nulls.append(each_row[-3:].isnull().sum()) #stores the number of nulls in the last 3 adjacent cells\n",
      "        else:\n",
      "            cnt_nulls.append(0) #this is executed if there is no null in the last 3 values in the row\n",
      "    return cnt_nulls\n",
      "\n",
      "def get_dtypes(data):\n",
      "\t\"\"\"\n",
      "\tFunction that gets the actual data type for each column in a dataframe\n",
      "    :param data: takes the dataframe as input\n",
      "    return: a dictionary of the data types\n",
      "\t\"\"\"\n",
      "\tcolumn_data_types = {} #this dictionary will hold the data type for each column \n",
      "\tfor col in data.columns:\n",
      "\t\tdata_types = [] \n",
      "\t\tfor val in data[col]:#looping through the values in each column\n",
      "\t\t\ttry:\n",
      "\t\t\t\tdata_types.append(type(int(val))) #we would try to convert to an integer \n",
      "\t\t\texcept:\n",
      "\t\t\t\tdata_types.append(type(val))  #if the above operation fails we exit and store the data type \n",
      "\t\tcount_dict = dict(Counter(data_types)) #this counts the occurence of each data type in each column\n",
      "\t\tcol_dtype = max(count_dict, key=count_dict.get) #this variable stores the highest occuring data type\n",
      "\t\tcolumn_data_types[col] = col_dtype\n",
      "\treturn column_data_types\n",
      "\n",
      "\n",
      "def data_relocation(data, col_types, null_condition):\n",
      "\t\"\"\"\n",
      "\tThis function relocates the data from the point of malformation to the assumed position as part of the\n",
      "\tdata cleaning process.\n",
      "\t:param data: the dataframe to be cleaned\n",
      "\t:param col_types: the dictionary of the prevalent data types\n",
      "\t:null_condition: the count of nulls\n",
      "\treturn: doesn't return any value but updates the dataframe in-memory\n",
      "\t\"\"\"\n",
      "\tcol_types_val = list(col_types.values()) #getting the dtypes and storing it as a list\n",
      "\tlength = data.shape[0] #storing the number of rows\n",
      "\tfor ind, num in zip(range(length),null_condition): #this will loop through each row and null_condition\n",
      "\t    if num == 1: #this allows us to focus on missing class label instances for now\n",
      "\t        start_indices = [] #creates a place holder to store the column index of where the malformation began\n",
      "\t        row_array = list(data.iloc[ind,:].values) #stores the original malformed row values\n",
      "\t        for i, val in zip(range(len(row_array)), row_array): #loops through each row value\n",
      "\t            try:\n",
      "\t                col_types_val[i](val) #this tries to apply the prevailing column type to each value\n",
      "\t            except:\n",
      "\t                start_indices.append(i) #this is executed once the above operation fails which registers the \\\n",
      "\t                #index of a variable with the wrong data type.\n",
      "\t        start_index = start_indices[0] #this retrieves the first index only which marks the beginning of the malformation\n",
      "\t        \n",
      "\t        #the logic below keeps all values before the start_index, replaces the value of the start index with null\\\n",
      "\t        #then relocates the original values to the next cell\n",
      "\t        new_row_array = list(row_array[:start_index] + [np.nan] + row_array[start_index:-1])\n",
      "\t        data.loc[ind,:] = new_row_array #the dataframe is updated with the new row\n",
      "\n",
      "\n",
      "def preprocess_categorical(data, features):\n",
      "\tfor col in features:\n",
      "\t\tdata[col].replace({0:'0'}, inplace=True)#replace the filled null values as string ero\n",
      "\t\tle = LabelEncoder() # Create an instance of label Encoder.\n",
      "\t\tdata[col] = le.fit_transform(data[col]) #fit and transform the variable to numeric\n"
     ]
    }
   ],
   "source": [
    "##view content of the preprocessor\n",
    "!pygmentize preprocess.py"
   ]
  },
  {
   "cell_type": "code",
   "execution_count": 48,
   "metadata": {},
   "outputs": [
    {
     "data": {
      "text/html": [
       "<div>\n",
       "<style scoped>\n",
       "    .dataframe tbody tr th:only-of-type {\n",
       "        vertical-align: middle;\n",
       "    }\n",
       "\n",
       "    .dataframe tbody tr th {\n",
       "        vertical-align: top;\n",
       "    }\n",
       "\n",
       "    .dataframe thead th {\n",
       "        text-align: right;\n",
       "    }\n",
       "</style>\n",
       "<table border=\"1\" class=\"dataframe\">\n",
       "  <thead>\n",
       "    <tr style=\"text-align: right;\">\n",
       "      <th></th>\n",
       "      <th>level_0</th>\n",
       "      <th>level_1</th>\n",
       "      <th>level_2</th>\n",
       "      <th>level_3</th>\n",
       "      <th>v33</th>\n",
       "      <th>v76</th>\n",
       "      <th>v12</th>\n",
       "      <th>v68</th>\n",
       "      <th>v50</th>\n",
       "      <th>v7</th>\n",
       "      <th>...</th>\n",
       "      <th>v28</th>\n",
       "      <th>v99</th>\n",
       "      <th>v95</th>\n",
       "      <th>v42</th>\n",
       "      <th>v53</th>\n",
       "      <th>v85</th>\n",
       "      <th>v9</th>\n",
       "      <th>v84</th>\n",
       "      <th>v44</th>\n",
       "      <th>classlabel</th>\n",
       "    </tr>\n",
       "  </thead>\n",
       "  <tbody>\n",
       "    <tr>\n",
       "      <th>0</th>\n",
       "      <td>bb</td>\n",
       "      <td>s</td>\n",
       "      <td>32.0</td>\n",
       "      <td>33</td>\n",
       "      <td>t</td>\n",
       "      <td>1</td>\n",
       "      <td>585</td>\n",
       "      <td>b</td>\n",
       "      <td>f</td>\n",
       "      <td>420.0</td>\n",
       "      <td>...</td>\n",
       "      <td>t</td>\n",
       "      <td>e</td>\n",
       "      <td>NaN</td>\n",
       "      <td>4200000</td>\n",
       "      <td>0</td>\n",
       "      <td>g</td>\n",
       "      <td>1</td>\n",
       "      <td>f</td>\n",
       "      <td>t</td>\n",
       "      <td>no.</td>\n",
       "    </tr>\n",
       "    <tr>\n",
       "      <th>1</th>\n",
       "      <td>v</td>\n",
       "      <td>g</td>\n",
       "      <td>23.0</td>\n",
       "      <td>58</td>\n",
       "      <td>f</td>\n",
       "      <td>0</td>\n",
       "      <td>54</td>\n",
       "      <td>b</td>\n",
       "      <td>f</td>\n",
       "      <td>136.0</td>\n",
       "      <td>...</td>\n",
       "      <td>t</td>\n",
       "      <td>c</td>\n",
       "      <td>NaN</td>\n",
       "      <td>1360000</td>\n",
       "      <td>1</td>\n",
       "      <td>g</td>\n",
       "      <td>0</td>\n",
       "      <td>f</td>\n",
       "      <td>f</td>\n",
       "      <td>no.</td>\n",
       "    </tr>\n",
       "    <tr>\n",
       "      <th>2</th>\n",
       "      <td>v</td>\n",
       "      <td>g</td>\n",
       "      <td>36.0</td>\n",
       "      <td>42</td>\n",
       "      <td>t</td>\n",
       "      <td>0</td>\n",
       "      <td>585</td>\n",
       "      <td>b</td>\n",
       "      <td>f</td>\n",
       "      <td>240.0</td>\n",
       "      <td>...</td>\n",
       "      <td>f</td>\n",
       "      <td>d</td>\n",
       "      <td>NaN</td>\n",
       "      <td>2400000</td>\n",
       "      <td>3</td>\n",
       "      <td>p</td>\n",
       "      <td>1</td>\n",
       "      <td>f</td>\n",
       "      <td>f</td>\n",
       "      <td>no.</td>\n",
       "    </tr>\n",
       "    <tr>\n",
       "      <th>3</th>\n",
       "      <td>v</td>\n",
       "      <td>g</td>\n",
       "      <td>18.0</td>\n",
       "      <td>42</td>\n",
       "      <td>f</td>\n",
       "      <td>0</td>\n",
       "      <td>125</td>\n",
       "      <td>b</td>\n",
       "      <td>f</td>\n",
       "      <td>120.0</td>\n",
       "      <td>...</td>\n",
       "      <td>f</td>\n",
       "      <td>aa</td>\n",
       "      <td>NaN</td>\n",
       "      <td>1200000</td>\n",
       "      <td>375</td>\n",
       "      <td>p</td>\n",
       "      <td>0</td>\n",
       "      <td>t</td>\n",
       "      <td>f</td>\n",
       "      <td>no.</td>\n",
       "    </tr>\n",
       "    <tr>\n",
       "      <th>4</th>\n",
       "      <td>v</td>\n",
       "      <td>g</td>\n",
       "      <td>24.0</td>\n",
       "      <td>5</td>\n",
       "      <td>t</td>\n",
       "      <td>0</td>\n",
       "      <td>04</td>\n",
       "      <td>b</td>\n",
       "      <td>f</td>\n",
       "      <td>120.0</td>\n",
       "      <td>...</td>\n",
       "      <td>t</td>\n",
       "      <td>aa</td>\n",
       "      <td>f</td>\n",
       "      <td>1200000</td>\n",
       "      <td>475</td>\n",
       "      <td>p</td>\n",
       "      <td>0</td>\n",
       "      <td>f</td>\n",
       "      <td>f</td>\n",
       "      <td>no.</td>\n",
       "    </tr>\n",
       "  </tbody>\n",
       "</table>\n",
       "<p>5 rows × 26 columns</p>\n",
       "</div>"
      ],
      "text/plain": [
       "  level_0 level_1  level_2 level_3 v33 v76  v12 v68 v50     v7  ...  v28 v99  \\\n",
       "0      bb       s     32.0      33   t   1  585   b   f  420.0  ...    t   e   \n",
       "1       v       g     23.0      58   f   0   54   b   f  136.0  ...    t   c   \n",
       "2       v       g     36.0      42   t   0  585   b   f  240.0  ...    f   d   \n",
       "3       v       g     18.0      42   f   0  125   b   f  120.0  ...    f  aa   \n",
       "4       v       g     24.0       5   t   0   04   b   f  120.0  ...    t  aa   \n",
       "\n",
       "   v95      v42  v53 v85 v9 v84 v44 classlabel  \n",
       "0  NaN  4200000    0   g  1   f   t        no.  \n",
       "1  NaN  1360000    1   g  0   f   f        no.  \n",
       "2  NaN  2400000    3   p  1   f   f        no.  \n",
       "3  NaN  1200000  375   p  0   t   f        no.  \n",
       "4    f  1200000  475   p  0   f   f        no.  \n",
       "\n",
       "[5 rows x 26 columns]"
      ]
     },
     "execution_count": 48,
     "metadata": {},
     "output_type": "execute_result"
    }
   ],
   "source": [
    "#load the data\n",
    "val_file_path = 'ds_take_home/Validation.csv'\n",
    "validation_data = pd.read_csv(val_file_path).reset_index()\n",
    "\n",
    "validation_data.head()"
   ]
  },
  {
   "cell_type": "code",
   "execution_count": 49,
   "metadata": {},
   "outputs": [
    {
     "data": {
      "text/plain": [
       "(200, 26)"
      ]
     },
     "execution_count": 49,
     "metadata": {},
     "output_type": "execute_result"
    }
   ],
   "source": [
    "validation_data.shape"
   ]
  },
  {
   "cell_type": "code",
   "execution_count": 50,
   "metadata": {},
   "outputs": [],
   "source": [
    "import preprocess\n",
    "## apply the various preprocessing tests\n",
    "val_col_num_nulls = preprocess.count_rowise_nulls(validation_data)\n",
    "val_col_dtypes = preprocess.get_dtypes(validation_data)\n",
    "preprocess.data_relocation(validation_data, val_col_dtypes, val_col_num_nulls)"
   ]
  },
  {
   "cell_type": "code",
   "execution_count": 51,
   "metadata": {},
   "outputs": [
    {
     "data": {
      "text/plain": [
       "6"
      ]
     },
     "execution_count": 51,
     "metadata": {},
     "output_type": "execute_result"
    }
   ],
   "source": [
    "validation_data.classlabel.isnull().sum()"
   ]
  },
  {
   "cell_type": "code",
   "execution_count": 52,
   "metadata": {},
   "outputs": [],
   "source": [
    "#filtering to non-nulls\n",
    "val_class_non_null = validation_data[~validation_data['classlabel'].isnull()]\n",
    "#fill nulls\n",
    "val_class_non_null.fillna(0, inplace=True)"
   ]
  },
  {
   "cell_type": "code",
   "execution_count": 53,
   "metadata": {},
   "outputs": [
    {
     "data": {
      "text/plain": [
       "(194, 26)"
      ]
     },
     "execution_count": 53,
     "metadata": {},
     "output_type": "execute_result"
    }
   ],
   "source": [
    "val_class_non_null.shape"
   ]
  },
  {
   "cell_type": "markdown",
   "metadata": {},
   "source": [
    "We won't be able to run predicitions on all the dataset as about 6 of the data is still malformed and there is no easy automated way to clean the data"
   ]
  },
  {
   "cell_type": "code",
   "execution_count": 54,
   "metadata": {},
   "outputs": [
    {
     "name": "stdout",
     "output_type": "stream",
     "text": [
      "Tests Passed!\n",
      "Tests Passed!\n"
     ]
    }
   ],
   "source": [
    "# carry out unit tests to confirm\n",
    "import preprocess_unittests as test\n",
    "\n",
    "test.test_col_nulls(val_col_num_nulls)\n",
    "test.verify_relocation(val_class_non_null, val_col_dtypes)"
   ]
  },
  {
   "cell_type": "markdown",
   "metadata": {},
   "source": [
    "Finally, convert to categorical features"
   ]
  },
  {
   "cell_type": "code",
   "execution_count": 55,
   "metadata": {},
   "outputs": [
    {
     "name": "stdout",
     "output_type": "stream",
     "text": [
      "Wall time: 12 ms\n"
     ]
    }
   ],
   "source": [
    "%%time\n",
    "preprocess_categorical(val_class_non_null, cat_features)"
   ]
  },
  {
   "cell_type": "markdown",
   "metadata": {},
   "source": [
    "### Running and Evaluating Predictions "
   ]
  },
  {
   "cell_type": "markdown",
   "metadata": {},
   "source": [
    "let's define all helper functions for performance evaluation since we would be reusing often:\n",
    "1. Accuracy, precision and recall\n",
    "2. confusion matrix\n",
    "3. ROC"
   ]
  },
  {
   "cell_type": "code",
   "execution_count": 56,
   "metadata": {},
   "outputs": [],
   "source": [
    "from sklearn.metrics import roc_auc_score\n",
    "from sklearn.metrics import roc_curve, auc\n",
    "from sklearn.metrics import plot_confusion_matrix\n",
    "from sklearn.metrics import classification_report"
   ]
  },
  {
   "cell_type": "code",
   "execution_count": 57,
   "metadata": {},
   "outputs": [],
   "source": [
    "def conf_mat(estimator, X_test, y_test):\n",
    "    plot_confusion_matrix(estimator, X_test, y_test)\n",
    "    plt.show()"
   ]
  },
  {
   "cell_type": "code",
   "execution_count": 58,
   "metadata": {},
   "outputs": [],
   "source": [
    "def pred_metrics(y_test, y_pred):\n",
    "    rept = classification_report(y_test, y_pred, output_dict=True, zero_division=0)\n",
    "    print(\"The accuracy of the model is {0}%\".format(round(rept[\"accuracy\"]*100,3)))\n",
    "    print(\"The recall of the model is {0}%\".format(round(rept[\"weighted avg\"][\"recall\"]*100,3)))\n",
    "    print(\"The precision of the model is {0}%\".format(round(rept[\"weighted avg\"][\"precision\"]*100,3)))\n",
    "    return rept"
   ]
  },
  {
   "cell_type": "markdown",
   "metadata": {},
   "source": [
    "The **Area-under-the curve (AUC)** is an aggregate indication of the model performance across different probability thresholds. Most ML algorithms adopt a 50% threshold which means if the predicted probability of an observation belonging to a class is less than 50%, the model will assign the observation to the opposite class and vice versa. An AUC of 60% means the model performs 10% better than random guessing across different thresholds. AUC ranges from 0 to 100% so an AUC of 100% means the model is perfect and predicts all classes correctly all the time regardless of the threshold."
   ]
  },
  {
   "cell_type": "code",
   "execution_count": 59,
   "metadata": {},
   "outputs": [],
   "source": [
    "def ROC(y_test, y_score):\n",
    "    #create a place holder dictionary to hold the different calculations\n",
    "    fpr = dict()\n",
    "    tpr = dict()\n",
    "    roc_auc = dict()\n",
    "    plt.figure()\n",
    "    \n",
    "    fpr, tpr, _ = roc_curve(y_true,  y_score[::,1]) #returns the fpr and tpr\n",
    "    auc = roc_auc_score(y_true, y_score[::,1]) #extracts the area under the curver for each class\n",
    "    plt.plot(fpr,tpr,color = 'darkorange', label=\"AUC=\"+str(auc))\n",
    "    plt.plot([0, 1], [0, 1], color='navy', linestyle='--') #random guessing model (AUC = 0.5) - for benchmarking\n",
    "    plt.xlim([0.0, 1.0])\n",
    "    plt.ylim([0.0, 1.05])\n",
    "    plt.xlabel('False Positive Rate')\n",
    "    plt.ylabel('True Positive Rate')\n",
    "    plt.title('Receiver operating characteristic example')\n",
    "    plt.legend(loc=\"lower right\")\n",
    "    plt.show()"
   ]
  },
  {
   "cell_type": "code",
   "execution_count": 60,
   "metadata": {},
   "outputs": [],
   "source": [
    "#drop columns\n",
    "val_data = val_class_non_null.drop(cols_to_drop, axis=1)\n",
    "X_true = val_data.iloc[:,:-1]\n",
    "y_true = val_data.classlabel"
   ]
  },
  {
   "cell_type": "code",
   "execution_count": 61,
   "metadata": {},
   "outputs": [],
   "source": [
    "bm_pred = baseline_model.predict(X_true)\n",
    "ov_pred = LR_oversample.predict(X_true)"
   ]
  },
  {
   "cell_type": "code",
   "execution_count": 62,
   "metadata": {},
   "outputs": [
    {
     "name": "stdout",
     "output_type": "stream",
     "text": [
      "Evaluating Baseline Performance on Out-of-bag set\n",
      "The accuracy of the model is 47.423%\n",
      "The recall of the model is 47.423%\n",
      "The precision of the model is 22.489%\n"
     ]
    },
    {
     "data": {
      "text/html": [
       "<div>\n",
       "<style scoped>\n",
       "    .dataframe tbody tr th:only-of-type {\n",
       "        vertical-align: middle;\n",
       "    }\n",
       "\n",
       "    .dataframe tbody tr th {\n",
       "        vertical-align: top;\n",
       "    }\n",
       "\n",
       "    .dataframe thead th {\n",
       "        text-align: right;\n",
       "    }\n",
       "</style>\n",
       "<table border=\"1\" class=\"dataframe\">\n",
       "  <thead>\n",
       "    <tr style=\"text-align: right;\">\n",
       "      <th></th>\n",
       "      <th>0</th>\n",
       "      <th>1</th>\n",
       "      <th>accuracy</th>\n",
       "      <th>macro avg</th>\n",
       "      <th>weighted avg</th>\n",
       "    </tr>\n",
       "  </thead>\n",
       "  <tbody>\n",
       "    <tr>\n",
       "      <th>precision</th>\n",
       "      <td>0.0</td>\n",
       "      <td>0.474227</td>\n",
       "      <td>0.474227</td>\n",
       "      <td>0.237113</td>\n",
       "      <td>0.224891</td>\n",
       "    </tr>\n",
       "    <tr>\n",
       "      <th>recall</th>\n",
       "      <td>0.0</td>\n",
       "      <td>1.000000</td>\n",
       "      <td>0.474227</td>\n",
       "      <td>0.500000</td>\n",
       "      <td>0.474227</td>\n",
       "    </tr>\n",
       "    <tr>\n",
       "      <th>f1-score</th>\n",
       "      <td>0.0</td>\n",
       "      <td>0.643357</td>\n",
       "      <td>0.474227</td>\n",
       "      <td>0.321678</td>\n",
       "      <td>0.305097</td>\n",
       "    </tr>\n",
       "    <tr>\n",
       "      <th>support</th>\n",
       "      <td>102.0</td>\n",
       "      <td>92.000000</td>\n",
       "      <td>0.474227</td>\n",
       "      <td>194.000000</td>\n",
       "      <td>194.000000</td>\n",
       "    </tr>\n",
       "  </tbody>\n",
       "</table>\n",
       "</div>"
      ],
      "text/plain": [
       "               0          1  accuracy   macro avg  weighted avg\n",
       "precision    0.0   0.474227  0.474227    0.237113      0.224891\n",
       "recall       0.0   1.000000  0.474227    0.500000      0.474227\n",
       "f1-score     0.0   0.643357  0.474227    0.321678      0.305097\n",
       "support    102.0  92.000000  0.474227  194.000000    194.000000"
      ]
     },
     "execution_count": 62,
     "metadata": {},
     "output_type": "execute_result"
    }
   ],
   "source": [
    "print(\"Evaluating Baseline Performance on Out-of-bag set\")\n",
    "pd.DataFrame(pred_metrics(y_true, bm_pred))"
   ]
  },
  {
   "cell_type": "markdown",
   "metadata": {},
   "source": [
    "**Baseline Model**\n",
    "\n",
    "The **Recall** which is **(TP) / (TP + FN)** - for the negative class (0) is **0%**, depicts that the model is **totally incapable of predicting the negative class**. This could be a problem if the goal of the model is to predict the negative class. The average recall of the model is about **47%**. The **Precision - (TP) / (TP + FP)** - is way below random guessing (23%). The model is only capable of predicting the positive class (1) efficiently (100% recall).\n",
    "\n",
    "The Area-under-the curve (AUC) is about **60%** which means the model performs **10%** better than random guessing across different thresholds."
   ]
  },
  {
   "cell_type": "code",
   "execution_count": 63,
   "metadata": {},
   "outputs": [
    {
     "data": {
      "image/png": "[encoded data removed]",
      "text/plain": [
       "<Figure size 432x288 with 1 Axes>"
      ]
     },
     "metadata": {
      "needs_background": "light"
     },
     "output_type": "display_data"
    }
   ],
   "source": [
    "y_score_bm = baseline_model.predict_proba(X_true)\n",
    "ROC(y_true, y_score_bm)"
   ]
  },
  {
   "cell_type": "code",
   "execution_count": 64,
   "metadata": {},
   "outputs": [
    {
     "name": "stdout",
     "output_type": "stream",
     "text": [
      "Evaluating Oversampled Performance on Out-of-bag set\n",
      "The accuracy of the model is 70.103%\n",
      "The recall of the model is 70.103%\n",
      "The precision of the model is 70.103%\n"
     ]
    },
    {
     "data": {
      "text/html": [
       "<div>\n",
       "<style scoped>\n",
       "    .dataframe tbody tr th:only-of-type {\n",
       "        vertical-align: middle;\n",
       "    }\n",
       "\n",
       "    .dataframe tbody tr th {\n",
       "        vertical-align: top;\n",
       "    }\n",
       "\n",
       "    .dataframe thead th {\n",
       "        text-align: right;\n",
       "    }\n",
       "</style>\n",
       "<table border=\"1\" class=\"dataframe\">\n",
       "  <thead>\n",
       "    <tr style=\"text-align: right;\">\n",
       "      <th></th>\n",
       "      <th>0</th>\n",
       "      <th>1</th>\n",
       "      <th>accuracy</th>\n",
       "      <th>macro avg</th>\n",
       "      <th>weighted avg</th>\n",
       "    </tr>\n",
       "  </thead>\n",
       "  <tbody>\n",
       "    <tr>\n",
       "      <th>precision</th>\n",
       "      <td>0.715686</td>\n",
       "      <td>0.684783</td>\n",
       "      <td>0.701031</td>\n",
       "      <td>0.700234</td>\n",
       "      <td>0.701031</td>\n",
       "    </tr>\n",
       "    <tr>\n",
       "      <th>recall</th>\n",
       "      <td>0.715686</td>\n",
       "      <td>0.684783</td>\n",
       "      <td>0.701031</td>\n",
       "      <td>0.700234</td>\n",
       "      <td>0.701031</td>\n",
       "    </tr>\n",
       "    <tr>\n",
       "      <th>f1-score</th>\n",
       "      <td>0.715686</td>\n",
       "      <td>0.684783</td>\n",
       "      <td>0.701031</td>\n",
       "      <td>0.700234</td>\n",
       "      <td>0.701031</td>\n",
       "    </tr>\n",
       "    <tr>\n",
       "      <th>support</th>\n",
       "      <td>102.000000</td>\n",
       "      <td>92.000000</td>\n",
       "      <td>0.701031</td>\n",
       "      <td>194.000000</td>\n",
       "      <td>194.000000</td>\n",
       "    </tr>\n",
       "  </tbody>\n",
       "</table>\n",
       "</div>"
      ],
      "text/plain": [
       "                    0          1  accuracy   macro avg  weighted avg\n",
       "precision    0.715686   0.684783  0.701031    0.700234      0.701031\n",
       "recall       0.715686   0.684783  0.701031    0.700234      0.701031\n",
       "f1-score     0.715686   0.684783  0.701031    0.700234      0.701031\n",
       "support    102.000000  92.000000  0.701031  194.000000    194.000000"
      ]
     },
     "execution_count": 64,
     "metadata": {},
     "output_type": "execute_result"
    }
   ],
   "source": [
    "print(\"Evaluating Oversampled Performance on Out-of-bag set\")\n",
    "pd.DataFrame(pred_metrics(y_true, ov_pred))"
   ]
  },
  {
   "cell_type": "code",
   "execution_count": 65,
   "metadata": {},
   "outputs": [
    {
     "data": {
      "image/png": "[encoded data removed]",
      "text/plain": [
       "<Figure size 432x288 with 1 Axes>"
      ]
     },
     "metadata": {
      "needs_background": "light"
     },
     "output_type": "display_data"
    }
   ],
   "source": [
    "y_score_lr = LR_oversample.predict_proba(X_true)\n",
    "ROC(y_true, y_score_lr)"
   ]
  },
  {
   "cell_type": "markdown",
   "metadata": {},
   "source": [
    "**Oversampled Model**\n",
    "\n",
    "The **Recall** for the negative class (0) is **71%**, depicts that the model is **Good at predicting the negative class**. This could be useful if the goal is to predict the negative class despite the few observations. The average recall of the model is about **70%**. The **Precision** - is also around **(70%)**. The model is equally capable in predicting the positive class (1).\n",
    "\n",
    "The Area-under-the curve (AUC) is about **71%** which means the model performs **20%** better than random guessing across different thresholds."
   ]
  },
  {
   "cell_type": "markdown",
   "metadata": {},
   "source": [
    "### Attempt at Optimizing Model Performance "
   ]
  },
  {
   "cell_type": "markdown",
   "metadata": {},
   "source": [
    "The following steps would be followed to try and achieve optimal performance on the validation set:\n",
    "1. Try new algorithms - Random forest model and Support Vector Machines on the oversampled data\n",
    "2. Try Feature selection\n",
    "3. Use Cross validation on the best model"
   ]
  },
  {
   "cell_type": "code",
   "execution_count": 66,
   "metadata": {},
   "outputs": [],
   "source": [
    "from sklearn.ensemble import RandomForestClassifier\n",
    "from sklearn import svm"
   ]
  },
  {
   "cell_type": "code",
   "execution_count": 67,
   "metadata": {},
   "outputs": [],
   "source": [
    "#remember to use the oversampled data\n",
    "svm_model = svm.SVC().fit(X_ov,y_ov)\n",
    "rf_model = RandomForestClassifier().fit(X_ov, y_ov)"
   ]
  },
  {
   "cell_type": "code",
   "execution_count": 68,
   "metadata": {},
   "outputs": [],
   "source": [
    "#predict on the validation (out-of-bag) set\n",
    "y_pred_svm = svm_model.predict(X_true)\n",
    "y_pred_rf = rf_model.predict(X_true)"
   ]
  },
  {
   "cell_type": "code",
   "execution_count": 69,
   "metadata": {},
   "outputs": [
    {
     "name": "stdout",
     "output_type": "stream",
     "text": [
      "Evaluating SVM Performance on Out-of-bag set\n",
      "The accuracy of the model is 64.948%\n",
      "The recall of the model is 64.948%\n",
      "The precision of the model is 65.295%\n",
      "\n",
      "\n",
      "\n",
      "Evaluating Random Forest Performance on Out-of-bag set\n",
      "The accuracy of the model is 48.969%\n",
      "The recall of the model is 48.969%\n",
      "The precision of the model is 49.154%\n"
     ]
    },
    {
     "data": {
      "text/html": [
       "<div>\n",
       "<style scoped>\n",
       "    .dataframe tbody tr th:only-of-type {\n",
       "        vertical-align: middle;\n",
       "    }\n",
       "\n",
       "    .dataframe tbody tr th {\n",
       "        vertical-align: top;\n",
       "    }\n",
       "\n",
       "    .dataframe thead th {\n",
       "        text-align: right;\n",
       "    }\n",
       "</style>\n",
       "<table border=\"1\" class=\"dataframe\">\n",
       "  <thead>\n",
       "    <tr style=\"text-align: right;\">\n",
       "      <th></th>\n",
       "      <th>0</th>\n",
       "      <th>1</th>\n",
       "      <th>accuracy</th>\n",
       "      <th>macro avg</th>\n",
       "      <th>weighted avg</th>\n",
       "    </tr>\n",
       "  </thead>\n",
       "  <tbody>\n",
       "    <tr>\n",
       "      <th>precision</th>\n",
       "      <td>0.515789</td>\n",
       "      <td>0.464646</td>\n",
       "      <td>0.489691</td>\n",
       "      <td>0.490218</td>\n",
       "      <td>0.491536</td>\n",
       "    </tr>\n",
       "    <tr>\n",
       "      <th>recall</th>\n",
       "      <td>0.480392</td>\n",
       "      <td>0.500000</td>\n",
       "      <td>0.489691</td>\n",
       "      <td>0.490196</td>\n",
       "      <td>0.489691</td>\n",
       "    </tr>\n",
       "    <tr>\n",
       "      <th>f1-score</th>\n",
       "      <td>0.497462</td>\n",
       "      <td>0.481675</td>\n",
       "      <td>0.489691</td>\n",
       "      <td>0.489569</td>\n",
       "      <td>0.489976</td>\n",
       "    </tr>\n",
       "    <tr>\n",
       "      <th>support</th>\n",
       "      <td>102.000000</td>\n",
       "      <td>92.000000</td>\n",
       "      <td>0.489691</td>\n",
       "      <td>194.000000</td>\n",
       "      <td>194.000000</td>\n",
       "    </tr>\n",
       "  </tbody>\n",
       "</table>\n",
       "</div>"
      ],
      "text/plain": [
       "                    0          1  accuracy   macro avg  weighted avg\n",
       "precision    0.515789   0.464646  0.489691    0.490218      0.491536\n",
       "recall       0.480392   0.500000  0.489691    0.490196      0.489691\n",
       "f1-score     0.497462   0.481675  0.489691    0.489569      0.489976\n",
       "support    102.000000  92.000000  0.489691  194.000000    194.000000"
      ]
     },
     "execution_count": 69,
     "metadata": {},
     "output_type": "execute_result"
    }
   ],
   "source": [
    "#evaluate\n",
    "print(\"Evaluating SVM Performance on Out-of-bag set\")\n",
    "pd.DataFrame(pred_metrics(y_true, y_pred_svm))\n",
    "print(\"\\n\\n\")\n",
    "print(\"Evaluating Random Forest Performance on Out-of-bag set\")\n",
    "pd.DataFrame(pred_metrics(y_true, y_pred_rf))"
   ]
  },
  {
   "cell_type": "markdown",
   "metadata": {},
   "source": [
    "**Logistic Regression** still appears to be the best model!"
   ]
  },
  {
   "cell_type": "markdown",
   "metadata": {},
   "source": [
    "**Feature Selection**\n",
    "\n",
    "The Recursive Feature Elimination (RFE) with random forest would be employed. It basically starts from the entire feature set and converges to a smaller subset of \"optimal\" features through recursively pruning the least important features. \n",
    "You can read more here https://scikit-learn.org/stable/modules/generated/sklearn.feature_selection.RFE.html\n",
    "\n",
    "We would start with 5 features and progress to 6 or reduce to 4 and see if the performance dips"
   ]
  },
  {
   "cell_type": "code",
   "execution_count": 70,
   "metadata": {},
   "outputs": [
    {
     "name": "stdout",
     "output_type": "stream",
     "text": [
      "Chosen best 5 feature by rfe: Index(['v33', 'v50', 'v20', 'v99', 'v44'], dtype='object')\n"
     ]
    }
   ],
   "source": [
    "from sklearn.feature_selection import RFE\n",
    "# Create the RFE object\n",
    "rf_model_1 = RandomForestClassifier()\n",
    "n_features = 5\n",
    "rfe = RFE(estimator=rf_model_1, n_features_to_select=n_features, step=1)\n",
    "rfe = rfe.fit(X_ov, y_ov)\n",
    "\n",
    "print('Chosen best 5 feature by rfe:',X_ov.columns[rfe.support_])"
   ]
  },
  {
   "cell_type": "markdown",
   "metadata": {},
   "source": [
    "repeat the cell above for 4,10,15 and 20 features"
   ]
  },
  {
   "cell_type": "code",
   "execution_count": 71,
   "metadata": {},
   "outputs": [],
   "source": [
    "#helper function to generate features space\n",
    "def create_feat_grid(feat_space):\n",
    "    chosen_best = {}\n",
    "    for n in feat_space:\n",
    "        rfe = RFE(estimator=rf_model_1, n_features_to_select=n, step=1)\n",
    "        rfe = rfe.fit(X_ov, y_ov)\n",
    "        chosen_best[n] = list(X_ov.columns[rfe.support_])\n",
    "    return chosen_best\n",
    "\n",
    "#function that caclulates the performance based on chosen features\n",
    "def compare_perf_features(feat_space):\n",
    "    feature_space = create_feat_grid(feat_space)\n",
    "    accuracy_dict = {}\n",
    "    for n_feat, feat in feature_space.items():\n",
    "        new_X = X_ov[feat]\n",
    "        LR_model = LogisticRegression().fit(new_X, y_ov)\n",
    "        y_pred = LR_model.predict(X_true[feat])\n",
    "        accuracy_dict[n_feat] = accuracy_score(y_true, y_pred)\n",
    "    return accuracy_dict"
   ]
  },
  {
   "cell_type": "code",
   "execution_count": 72,
   "metadata": {},
   "outputs": [
    {
     "name": "stdout",
     "output_type": "stream",
     "text": [
      "Wall time: 13.8 s\n"
     ]
    }
   ],
   "source": [
    "%%time\n",
    "search_result = compare_perf_features([4,5,10,15,20])"
   ]
  },
  {
   "cell_type": "code",
   "execution_count": 73,
   "metadata": {},
   "outputs": [
    {
     "data": {
      "text/plain": [
       "[<matplotlib.lines.Line2D at 0x2b501f482c8>]"
      ]
     },
     "execution_count": 73,
     "metadata": {},
     "output_type": "execute_result"
    },
    {
     "data": {
      "image/png": "[encoded data removed]",
      "text/plain": [
       "<Figure size 432x288 with 1 Axes>"
      ]
     },
     "metadata": {
      "needs_background": "light"
     },
     "output_type": "display_data"
    }
   ],
   "source": [
    "plt.figure()\n",
    "plt.xlabel(\"Number of features selected\")\n",
    "plt.ylabel(\"Accuracy of number of selected features\")\n",
    "plt.plot(list(search_result.keys()), list(search_result.values()))"
   ]
  },
  {
   "cell_type": "markdown",
   "metadata": {},
   "source": [
    "You can see the model's performance doesn't improve after 10 best features"
   ]
  },
  {
   "cell_type": "code",
   "execution_count": 74,
   "metadata": {},
   "outputs": [
    {
     "data": {
      "text/plain": [
       "['level_3', 'v33', 'v76', 'v50', 'v20', 'v99', 'v95', 'v42', 'v53', 'v44']"
      ]
     },
     "execution_count": 74,
     "metadata": {},
     "output_type": "execute_result"
    }
   ],
   "source": [
    "best_features = create_feat_grid([4,5,10,15,20])[10]\n",
    "best_features"
   ]
  },
  {
   "cell_type": "markdown",
   "metadata": {},
   "source": [
    "**Finally, we would cross validate on the paramters of the most performant model**"
   ]
  },
  {
   "cell_type": "code",
   "execution_count": 75,
   "metadata": {},
   "outputs": [
    {
     "name": "stdout",
     "output_type": "stream",
     "text": [
      "tuned hpyerparameters :(best parameters)  {'C': 0.001, 'penalty': 'l2'}\n",
      "accuracy : 0.6524691358024691\n"
     ]
    }
   ],
   "source": [
    "from sklearn.model_selection import KFold\n",
    "from sklearn.model_selection import cross_val_score\n",
    "from sklearn.model_selection import GridSearchCV\n",
    "\n",
    "grid={\"C\":np.logspace(-3,3,7), \"penalty\":[\"l1\",\"l2\"]}# l1 lasso l2 ridge\n",
    "logreg=LogisticRegression()\n",
    "logreg_cv=GridSearchCV(logreg,grid,cv=10)\n",
    "logreg_cv.fit(X_ov,y_ov)\n",
    "\n",
    "print(\"tuned hpyerparameters :(best parameters) \",logreg_cv.best_params_)\n",
    "print(\"accuracy :\",logreg_cv.best_score_)"
   ]
  },
  {
   "cell_type": "markdown",
   "metadata": {},
   "source": [
    "The training accuracy is higher!"
   ]
  },
  {
   "cell_type": "code",
   "execution_count": 76,
   "metadata": {},
   "outputs": [
    {
     "name": "stdout",
     "output_type": "stream",
     "text": [
      "The accuracy of the model is 70.103%\n",
      "The recall of the model is 70.103%\n",
      "The precision of the model is 70.41%\n"
     ]
    },
    {
     "data": {
      "text/html": [
       "<div>\n",
       "<style scoped>\n",
       "    .dataframe tbody tr th:only-of-type {\n",
       "        vertical-align: middle;\n",
       "    }\n",
       "\n",
       "    .dataframe tbody tr th {\n",
       "        vertical-align: top;\n",
       "    }\n",
       "\n",
       "    .dataframe thead th {\n",
       "        text-align: right;\n",
       "    }\n",
       "</style>\n",
       "<table border=\"1\" class=\"dataframe\">\n",
       "  <thead>\n",
       "    <tr style=\"text-align: right;\">\n",
       "      <th></th>\n",
       "      <th>0</th>\n",
       "      <th>1</th>\n",
       "      <th>accuracy</th>\n",
       "      <th>macro avg</th>\n",
       "      <th>weighted avg</th>\n",
       "    </tr>\n",
       "  </thead>\n",
       "  <tbody>\n",
       "    <tr>\n",
       "      <th>precision</th>\n",
       "      <td>0.686441</td>\n",
       "      <td>0.723684</td>\n",
       "      <td>0.701031</td>\n",
       "      <td>0.705062</td>\n",
       "      <td>0.704103</td>\n",
       "    </tr>\n",
       "    <tr>\n",
       "      <th>recall</th>\n",
       "      <td>0.794118</td>\n",
       "      <td>0.597826</td>\n",
       "      <td>0.701031</td>\n",
       "      <td>0.695972</td>\n",
       "      <td>0.701031</td>\n",
       "    </tr>\n",
       "    <tr>\n",
       "      <th>f1-score</th>\n",
       "      <td>0.736364</td>\n",
       "      <td>0.654762</td>\n",
       "      <td>0.701031</td>\n",
       "      <td>0.695563</td>\n",
       "      <td>0.697666</td>\n",
       "    </tr>\n",
       "    <tr>\n",
       "      <th>support</th>\n",
       "      <td>102.000000</td>\n",
       "      <td>92.000000</td>\n",
       "      <td>0.701031</td>\n",
       "      <td>194.000000</td>\n",
       "      <td>194.000000</td>\n",
       "    </tr>\n",
       "  </tbody>\n",
       "</table>\n",
       "</div>"
      ],
      "text/plain": [
       "                    0          1  accuracy   macro avg  weighted avg\n",
       "precision    0.686441   0.723684  0.701031    0.705062      0.704103\n",
       "recall       0.794118   0.597826  0.701031    0.695972      0.701031\n",
       "f1-score     0.736364   0.654762  0.701031    0.695563      0.697666\n",
       "support    102.000000  92.000000  0.701031  194.000000    194.000000"
      ]
     },
     "execution_count": 76,
     "metadata": {},
     "output_type": "execute_result"
    }
   ],
   "source": [
    "LR_optimized = LogisticRegression(C=0.001, penalty='l2')\n",
    "LR_optimized.fit(X_ov[best_features],y_ov) #remember to use the best features\n",
    "y_pred_opt = LR_optimized.predict(X_true[best_features])\n",
    "pd.DataFrame(pred_metrics(y_true, y_pred_opt))"
   ]
  },
  {
   "cell_type": "markdown",
   "metadata": {},
   "source": [
    "### Conclusion "
   ]
  },
  {
   "cell_type": "markdown",
   "metadata": {},
   "source": [
    "**The cross validated model - LogisticRegression(c=0.001, penalty = 'l2') is no better than the simple Logistic regression algorithm**"
   ]
  },
  {
   "cell_type": "markdown",
   "metadata": {},
   "source": [
    "### Limitations "
   ]
  },
  {
   "cell_type": "markdown",
   "metadata": {},
   "source": [
    "This project did not consider all the validation data (about 3%) in its predictions due to the malformation of some values"
   ]
  },
  {
   "cell_type": "markdown",
   "metadata": {},
   "source": [
    "### Areas of Improvement"
   ]
  },
  {
   "cell_type": "markdown",
   "metadata": {},
   "source": [
    "1. In the future, once can consider other more complex algorithms like xgboost\n",
    "2. Most of the data cleaning and preprocessing functions are not optimised and might give sub-optimal performance in production systems. Consider optimizing functions to reduce iterations and search space."
   ]
  },
  {
   "cell_type": "code",
   "execution_count": null,
   "metadata": {},
   "outputs": [],
   "source": []
  }
 ],
 "metadata": {
  "kernelspec": {
   "display_name": "Python 3",
   "language": "python",
   "name": "python3"
  },
  "language_info": {
   "codemirror_mode": {
    "name": "ipython",
    "version": 3
   },
   "file_extension": ".py",
   "mimetype": "text/x-python",
   "name": "python",
   "nbconvert_exporter": "python",
   "pygments_lexer": "ipython3",
   "version": "3.7.6"
  }
 },
 "nbformat": 4,
 "nbformat_minor": 4
}
